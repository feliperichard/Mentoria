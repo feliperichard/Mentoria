{
 "cells": [
  {
   "cell_type": "markdown",
   "metadata": {},
   "source": [
    "Resumen:\n",
    "    \n",
    "En  este notebook hemos probado los siguientes modelos de detección de outliers con métodos supervisados y comparado los resultados con los outliers marcados en el dataset provisto. \n",
    "\n",
    "Se utilizó un Pipeline y GridSearch para pare procesar los datos y probar automáticamente un conjunto de hiperparámetros. Con los mejores hiperparámetros se obtuvieron los siguientes resultados.\n",
    "\n",
    "   OneClassSVM - F1-Score: 0.129\n",
    "   DecisionTreeClassifier obteniendo  - F1-Score: 0.769\n",
    "   Isolation Forest - F1-Score: 0.222\n",
    "    \n"
   ]
  },
  {
   "cell_type": "code",
   "execution_count": 34,
   "metadata": {},
   "outputs": [
    {
     "name": "stdout",
     "output_type": "stream",
     "text": [
      "numpy       1.19.2\n",
      "pandas      1.1.3 \n",
      "matplotlib  3.3.2 \n",
      "sklearn     0.23.2\n"
     ]
    }
   ],
   "source": [
    "#IMPORT\n",
    "\n",
    "import numpy as np\n",
    "print(f\"{'numpy':<11} {np.__version__:<6}\")\n",
    "\n",
    "import pandas as pd\n",
    "print(f\"{'pandas':<11} {pd.__version__:<6}\")\n",
    "\n",
    "import matplotlib\n",
    "print(f\"{'matplotlib':<11} {matplotlib.__version__:<6}\")\n",
    "\n",
    "import matplotlib.pyplot as plt\n",
    "\n",
    "from sklearn import __version__ as sklearn_version\n",
    "print(f\"{'sklearn':<11} {sklearn_version:<6}\")\n",
    "\n",
    "from sklearn.compose import ColumnTransformer\n",
    "from sklearn.impute import SimpleImputer\n",
    "from sklearn.pipeline import Pipeline\n",
    "from sklearn.preprocessing import OneHotEncoder\n",
    "from sklearn.preprocessing import StandardScaler\n",
    "from sklearn.svm import OneClassSVM\n",
    "from sklearn.tree import DecisionTreeClassifier\n",
    "from sklearn.metrics import mean_absolute_error, recall_score\n",
    "\n",
    "import itertools"
   ]
  },
  {
   "cell_type": "code",
   "execution_count": 35,
   "metadata": {},
   "outputs": [],
   "source": [
    "#DIAGRAMA PARA PIPELINE\n",
    "from sklearn import set_config\n",
    "set_config(display=\"diagram\")"
   ]
  },
  {
   "cell_type": "code",
   "execution_count": 36,
   "metadata": {},
   "outputs": [],
   "source": [
    "#MÉTRICAS DE CONTROL\n",
    "from sklearn.metrics import classification_report, precision_score, recall_score, f1_score, precision_recall_fscore_support\n",
    "\n",
    "def print_report( Y_test, Y_preds ):\n",
    "    print('MAE                                         : %.3f'% mean_absolute_error(Y_test, Y_preds))\n",
    "    print('Precision                                   : %.3f'% precision_score(Y_test, Y_preds))\n",
    "    print('Recall                                      : %.3f'% recall_score(Y_test, Y_preds))\n",
    "    print('F1-Score                                    : %.3f'% f1_score(Y_test, Y_preds))\n",
    "    print('\\nPrecision Recall F1-Score Support Per Class : \\n', precision_recall_fscore_support(Y_test, Y_preds))\n",
    "    print('\\nClassification Report                       : ')\n",
    "    print(classification_report(Y_test, Y_preds))"
   ]
  },
  {
   "cell_type": "code",
   "execution_count": 37,
   "metadata": {},
   "outputs": [],
   "source": [
    "# Model Evaluation - MATRIZ DE CONFUSION \n",
    "from sklearn.metrics import confusion_matrix\n",
    "\n",
    "def confusion_matrix_plot( Y_test, Y_preds ):\n",
    "\n",
    "    conf_mat = confusion_matrix(Y_test, Y_preds)\n",
    "    print(conf_mat)\n",
    "    with plt.style.context(('ggplot', 'seaborn')):\n",
    "        fig = plt.figure(figsize=(6,6), num=1)\n",
    "        plt.imshow(conf_mat, interpolation='nearest',cmap= plt.cm.Blues )\n",
    "        plt.xticks([0,1],[0,1])\n",
    "        plt.yticks([0,1],[0,1])\n",
    "        plt.xlabel('Predicted Label')\n",
    "        plt.ylabel('Actual Label')\n",
    "        for i, j in itertools.product(range(conf_mat.shape[0]), range(conf_mat.shape[1])):\n",
    "                    plt.text(j, i,conf_mat[i, j], horizontalalignment=\"center\",color=\"red\")\n",
    "        plt.grid(None)\n",
    "        plt.title('Confusion Matrix')\n",
    "        plt.colorbar()\n",
    "        plt.show()"
   ]
  },
  {
   "cell_type": "code",
   "execution_count": 38,
   "metadata": {},
   "outputs": [],
   "source": [
    "# Data Loading\n",
    "path = \"https://raw.githubusercontent.com/feliperichard/TP3/main/TP3_Intro_a_ML/datasets/traffic_AR_CL_UY%2Bfeatures%2Bcolumn_classifier.csv\"\n",
    "\n",
    "df0: pd.DataFrame = pd.read_csv(\n",
    "    path,\n",
    "    parse_dates=[\"Fecha\"]\n",
    ")\n",
    "\n",
    "df0[\"Fecha\"] = pd.to_datetime(df0[\"Fecha\"], utc=True)\n"
   ]
  },
  {
   "cell_type": "code",
   "execution_count": 39,
   "metadata": {},
   "outputs": [
    {
     "name": "stdout",
     "output_type": "stream",
     "text": [
      "<class 'pandas.core.frame.DataFrame'>\n",
      "RangeIndex: 7712 entries, 0 to 7711\n",
      "Data columns (total 27 columns):\n",
      " #   Column               Non-Null Count  Dtype              \n",
      "---  ------               --------------  -----              \n",
      " 0   Fecha                7712 non-null   datetime64[ns, UTC]\n",
      " 1   Site                 7712 non-null   object             \n",
      " 2   flow                 7712 non-null   object             \n",
      " 3   Device               7712 non-null   object             \n",
      " 4   Loading              7712 non-null   int64              \n",
      " 5   Shipping             7712 non-null   int64              \n",
      " 6   Payments             7712 non-null   int64              \n",
      " 7   Review               7712 non-null   int64              \n",
      " 8   Congrats             7712 non-null   int64              \n",
      " 9   missing              7712 non-null   bool               \n",
      " 10  day_of_week          7712 non-null   int64              \n",
      " 11  month                7712 non-null   int64              \n",
      " 12  year                 7712 non-null   int64              \n",
      " 13  Shipping_ratio       7712 non-null   float64            \n",
      " 14  Payments_ratio       7712 non-null   float64            \n",
      " 15  Review_ratio         7712 non-null   float64            \n",
      " 16  Congrats_ratio       7712 non-null   float64            \n",
      " 17  TOTAL                7712 non-null   float64            \n",
      " 18  input_on_Shipping    7712 non-null   bool               \n",
      " 19  missing_on_Shipping  7712 non-null   bool               \n",
      " 20  input_on_Payments    7712 non-null   bool               \n",
      " 21  missing_on_Payments  7712 non-null   bool               \n",
      " 22  input_on_Review      7712 non-null   bool               \n",
      " 23  missing_on_Review    7712 non-null   bool               \n",
      " 24  input_on_Congrats    7712 non-null   bool               \n",
      " 25  missing_on_Congrats  7712 non-null   bool               \n",
      " 26  anomaly              7712 non-null   bool               \n",
      "dtypes: bool(10), datetime64[ns, UTC](1), float64(5), int64(8), object(3)\n",
      "memory usage: 1.1+ MB\n"
     ]
    }
   ],
   "source": [
    "df0.info()"
   ]
  },
  {
   "cell_type": "code",
   "execution_count": 40,
   "metadata": {},
   "outputs": [],
   "source": [
    "site   = \"MLA\"\n",
    "flow   = \"direct\"\n",
    "device = \"Android\"\n",
    "\n",
    "result: pd.DataFrame = df0.query(\n",
    "        f\"\"\" Site == \"{site}\" and flow == '{flow}' and Device == '{device}' \"\"\"\n",
    "    )\n"
   ]
  },
  {
   "cell_type": "code",
   "execution_count": 41,
   "metadata": {},
   "outputs": [],
   "source": [
    "# Column / Feature Selection\n",
    "data = result[[\"Fecha\", \"Site\", \"flow\",\"Device\",\"Loading\",\"Shipping\",\"Payments\",\"Review\",\"Congrats\",\"TOTAL\",\"anomaly\"]]\n"
   ]
  },
  {
   "cell_type": "code",
   "execution_count": 42,
   "metadata": {},
   "outputs": [
    {
     "name": "stdout",
     "output_type": "stream",
     "text": [
      "<class 'pandas.core.frame.DataFrame'>\n",
      "Int64Index: 488 entries, 4 to 7698\n",
      "Data columns (total 11 columns):\n",
      " #   Column    Non-Null Count  Dtype              \n",
      "---  ------    --------------  -----              \n",
      " 0   Fecha     488 non-null    datetime64[ns, UTC]\n",
      " 1   Site      488 non-null    object             \n",
      " 2   flow      488 non-null    object             \n",
      " 3   Device    488 non-null    object             \n",
      " 4   Loading   488 non-null    int64              \n",
      " 5   Shipping  488 non-null    int64              \n",
      " 6   Payments  488 non-null    int64              \n",
      " 7   Review    488 non-null    int64              \n",
      " 8   Congrats  488 non-null    int64              \n",
      " 9   TOTAL     488 non-null    float64            \n",
      " 10  anomaly   488 non-null    bool               \n",
      "dtypes: bool(1), datetime64[ns, UTC](1), float64(1), int64(5), object(3)\n",
      "memory usage: 42.4+ KB\n"
     ]
    }
   ],
   "source": [
    "data.info()\n"
   ]
  },
  {
   "cell_type": "code",
   "execution_count": 43,
   "metadata": {},
   "outputs": [
    {
     "name": "stdout",
     "output_type": "stream",
     "text": [
      "False    0.893443\n",
      "True     0.106557\n",
      "Name: anomaly, dtype: float64\n"
     ]
    },
    {
     "data": {
      "text/plain": [
       "<AxesSubplot:title={'center':'Classes distribution'}>"
      ]
     },
     "execution_count": 43,
     "metadata": {},
     "output_type": "execute_result"
    },
    {
     "data": {
      "image/png": "[encoded data removed]",
      "text/plain": [
       "<Figure size 432x288 with 1 Axes>"
      ]
     },
     "metadata": {
      "needs_background": "light"
     },
     "output_type": "display_data"
    }
   ],
   "source": [
    "print(data.anomaly.value_counts(normalize=True))\n",
    "data[\"anomaly\"].value_counts().plot(kind=\"bar\", title=\"Classes distribution\")"
   ]
  },
  {
   "cell_type": "code",
   "execution_count": 44,
   "metadata": {},
   "outputs": [
    {
     "name": "stderr",
     "output_type": "stream",
     "text": [
      "<ipython-input-44-5dcc771d4818>:6: SettingWithCopyWarning: \n",
      "A value is trying to be set on a copy of a slice from a DataFrame.\n",
      "Try using .loc[row_indexer,col_indexer] = value instead\n",
      "\n",
      "See the caveats in the documentation: https://pandas.pydata.org/pandas-docs/stable/user_guide/indexing.html#returning-a-view-versus-a-copy\n",
      "  data[\"class\"] = data[\"anomaly\"].map(map_class)\n"
     ]
    },
    {
     "data": {
      "text/plain": [
       "4       1\n",
       "16     -1\n",
       "28     -1\n",
       "40     -1\n",
       "52     -1\n",
       "       ..\n",
       "7626   -1\n",
       "7644   -1\n",
       "7662   -1\n",
       "7680   -1\n",
       "7698   -1\n",
       "Name: class, Length: 488, dtype: int64"
      ]
     },
     "execution_count": 44,
     "metadata": {},
     "output_type": "execute_result"
    }
   ],
   "source": [
    "map_class = { \n",
    "    True : 1,  # Anomalies on class 1\n",
    "    False: -1  # Normal on class -1\n",
    "}\n",
    "\n",
    "data[\"class\"] = data[\"anomaly\"].map(map_class)\n",
    "\n",
    "target_name = \"class\"\n",
    "target = data[target_name]\n",
    "target"
   ]
  },
  {
   "cell_type": "code",
   "execution_count": 45,
   "metadata": {},
   "outputs": [
    {
     "data": {
      "text/html": [
       "<div>\n",
       "<style scoped>\n",
       "    .dataframe tbody tr th:only-of-type {\n",
       "        vertical-align: middle;\n",
       "    }\n",
       "\n",
       "    .dataframe tbody tr th {\n",
       "        vertical-align: top;\n",
       "    }\n",
       "\n",
       "    .dataframe thead th {\n",
       "        text-align: right;\n",
       "    }\n",
       "</style>\n",
       "<table border=\"1\" class=\"dataframe\">\n",
       "  <thead>\n",
       "    <tr style=\"text-align: right;\">\n",
       "      <th></th>\n",
       "      <th>Site</th>\n",
       "      <th>flow</th>\n",
       "      <th>Device</th>\n",
       "      <th>Loading</th>\n",
       "      <th>Shipping</th>\n",
       "      <th>Payments</th>\n",
       "      <th>Review</th>\n",
       "      <th>Congrats</th>\n",
       "      <th>TOTAL</th>\n",
       "    </tr>\n",
       "  </thead>\n",
       "  <tbody>\n",
       "    <tr>\n",
       "      <th>4</th>\n",
       "      <td>MLA</td>\n",
       "      <td>direct</td>\n",
       "      <td>Android</td>\n",
       "      <td>160081</td>\n",
       "      <td>152310</td>\n",
       "      <td>124551</td>\n",
       "      <td>89380</td>\n",
       "      <td>83856</td>\n",
       "      <td>0.551</td>\n",
       "    </tr>\n",
       "    <tr>\n",
       "      <th>16</th>\n",
       "      <td>MLA</td>\n",
       "      <td>direct</td>\n",
       "      <td>Android</td>\n",
       "      <td>130042</td>\n",
       "      <td>122965</td>\n",
       "      <td>97941</td>\n",
       "      <td>65134</td>\n",
       "      <td>60631</td>\n",
       "      <td>0.493</td>\n",
       "    </tr>\n",
       "    <tr>\n",
       "      <th>28</th>\n",
       "      <td>MLA</td>\n",
       "      <td>direct</td>\n",
       "      <td>Android</td>\n",
       "      <td>113526</td>\n",
       "      <td>106599</td>\n",
       "      <td>83077</td>\n",
       "      <td>51557</td>\n",
       "      <td>47156</td>\n",
       "      <td>0.442</td>\n",
       "    </tr>\n",
       "    <tr>\n",
       "      <th>40</th>\n",
       "      <td>MLA</td>\n",
       "      <td>direct</td>\n",
       "      <td>Android</td>\n",
       "      <td>142338</td>\n",
       "      <td>133952</td>\n",
       "      <td>105604</td>\n",
       "      <td>67622</td>\n",
       "      <td>62339</td>\n",
       "      <td>0.465</td>\n",
       "    </tr>\n",
       "    <tr>\n",
       "      <th>52</th>\n",
       "      <td>MLA</td>\n",
       "      <td>direct</td>\n",
       "      <td>Android</td>\n",
       "      <td>159192</td>\n",
       "      <td>151029</td>\n",
       "      <td>119921</td>\n",
       "      <td>79137</td>\n",
       "      <td>73578</td>\n",
       "      <td>0.487</td>\n",
       "    </tr>\n",
       "  </tbody>\n",
       "</table>\n",
       "</div>"
      ],
      "text/plain": [
       "   Site    flow   Device  Loading  Shipping  Payments  Review  Congrats  TOTAL\n",
       "4   MLA  direct  Android   160081    152310    124551   89380     83856  0.551\n",
       "16  MLA  direct  Android   130042    122965     97941   65134     60631  0.493\n",
       "28  MLA  direct  Android   113526    106599     83077   51557     47156  0.442\n",
       "40  MLA  direct  Android   142338    133952    105604   67622     62339  0.465\n",
       "52  MLA  direct  Android   159192    151029    119921   79137     73578  0.487"
      ]
     },
     "execution_count": 45,
     "metadata": {},
     "output_type": "execute_result"
    }
   ],
   "source": [
    "# We drop from our data the target column to train our \n",
    "data = data.drop( columns = [ target_name , \"anomaly\", \"Fecha\" ] )\n",
    "data.head()"
   ]
  },
  {
   "cell_type": "code",
   "execution_count": 46,
   "metadata": {},
   "outputs": [],
   "source": [
    "from sklearn.model_selection import train_test_split\n",
    "\n",
    "X_train, X_test, y_train, y_test = train_test_split(data, target, test_size=0.15, random_state=999983)\n",
    "\n",
    "#display(X_train)\n",
    " #display(y_train)"
   ]
  },
  {
   "cell_type": "code",
   "execution_count": 47,
   "metadata": {},
   "outputs": [
    {
     "data": {
      "text/html": [
       "<style>div.sk-top-container {color: black;background-color: white;}div.sk-toggleable {background-color: white;}label.sk-toggleable__label {cursor: pointer;display: block;width: 100%;margin-bottom: 0;padding: 0.2em 0.3em;box-sizing: border-box;text-align: center;}div.sk-toggleable__content {max-height: 0;max-width: 0;overflow: hidden;text-align: left;background-color: #f0f8ff;}div.sk-toggleable__content pre {margin: 0.2em;color: black;border-radius: 0.25em;background-color: #f0f8ff;}input.sk-toggleable__control:checked~div.sk-toggleable__content {max-height: 200px;max-width: 100%;overflow: auto;}div.sk-estimator input.sk-toggleable__control:checked~label.sk-toggleable__label {background-color: #d4ebff;}div.sk-label input.sk-toggleable__control:checked~label.sk-toggleable__label {background-color: #d4ebff;}input.sk-hidden--visually {border: 0;clip: rect(1px 1px 1px 1px);clip: rect(1px, 1px, 1px, 1px);height: 1px;margin: -1px;overflow: hidden;padding: 0;position: absolute;width: 1px;}div.sk-estimator {font-family: monospace;background-color: #f0f8ff;margin: 0.25em 0.25em;border: 1px dotted black;border-radius: 0.25em;box-sizing: border-box;}div.sk-estimator:hover {background-color: #d4ebff;}div.sk-parallel-item::after {content: \"\";width: 100%;border-bottom: 1px solid gray;flex-grow: 1;}div.sk-label:hover label.sk-toggleable__label {background-color: #d4ebff;}div.sk-serial::before {content: \"\";position: absolute;border-left: 1px solid gray;box-sizing: border-box;top: 2em;bottom: 0;left: 50%;}div.sk-serial {display: flex;flex-direction: column;align-items: center;background-color: white;}div.sk-item {z-index: 1;}div.sk-parallel {display: flex;align-items: stretch;justify-content: center;background-color: white;}div.sk-parallel-item {display: flex;flex-direction: column;position: relative;background-color: white;}div.sk-parallel-item:first-child::after {align-self: flex-end;width: 50%;}div.sk-parallel-item:last-child::after {align-self: flex-start;width: 50%;}div.sk-parallel-item:only-child::after {width: 0;}div.sk-dashed-wrapped {border: 1px dashed gray;margin: 0.2em;box-sizing: border-box;padding-bottom: 0.1em;background-color: white;position: relative;}div.sk-label label {font-family: monospace;font-weight: bold;background-color: white;display: inline-block;line-height: 1.2em;}div.sk-label-container {position: relative;z-index: 2;text-align: center;}div.sk-container {display: inline-block;position: relative;}</style><div class=\"sk-top-container\"><div class=\"sk-container\"><div class=\"sk-item sk-dashed-wrapped\"><div class=\"sk-label-container\"><div class=\"sk-label sk-toggleable\"><input class=\"sk-toggleable__control sk-hidden--visually\" id=\"d85b797c-9d2d-4c28-90cd-8dbd0c5cb376\" type=\"checkbox\" ><label class=\"sk-toggleable__label\" for=\"d85b797c-9d2d-4c28-90cd-8dbd0c5cb376\">Pipeline</label><div class=\"sk-toggleable__content\"><pre>Pipeline(steps=[('preprocess',\n",
       "                 ColumnTransformer(transformers=[('categorical_preprocessing',\n",
       "                                                  Pipeline(steps=[('ohe',\n",
       "                                                                   OneHotEncoder())]),\n",
       "                                                  ['Site', 'flow', 'Device']),\n",
       "                                                 ('numerical_preprocessing',\n",
       "                                                  Pipeline(steps=[('imputation',\n",
       "                                                                   SimpleImputer()),\n",
       "                                                                  ('scaler',\n",
       "                                                                   StandardScaler())]),\n",
       "                                                  ['Loading', 'Shipping',\n",
       "                                                   'Payments', 'Review',\n",
       "                                                   'Congrats', 'TOTAL'])])),\n",
       "                ('clf', OneClassSVM())])</pre></div></div></div><div class=\"sk-serial\"><div class=\"sk-item sk-dashed-wrapped\"><div class=\"sk-label-container\"><div class=\"sk-label sk-toggleable\"><input class=\"sk-toggleable__control sk-hidden--visually\" id=\"77c6e117-c6bf-4ed7-a169-a95f64b09f36\" type=\"checkbox\" ><label class=\"sk-toggleable__label\" for=\"77c6e117-c6bf-4ed7-a169-a95f64b09f36\">preprocess: ColumnTransformer</label><div class=\"sk-toggleable__content\"><pre>ColumnTransformer(transformers=[('categorical_preprocessing',\n",
       "                                 Pipeline(steps=[('ohe', OneHotEncoder())]),\n",
       "                                 ['Site', 'flow', 'Device']),\n",
       "                                ('numerical_preprocessing',\n",
       "                                 Pipeline(steps=[('imputation',\n",
       "                                                  SimpleImputer()),\n",
       "                                                 ('scaler', StandardScaler())]),\n",
       "                                 ['Loading', 'Shipping', 'Payments', 'Review',\n",
       "                                  'Congrats', 'TOTAL'])])</pre></div></div></div><div class=\"sk-parallel\"><div class=\"sk-parallel-item\"><div class=\"sk-item\"><div class=\"sk-label-container\"><div class=\"sk-label sk-toggleable\"><input class=\"sk-toggleable__control sk-hidden--visually\" id=\"c6452ae0-4cb2-48f4-a1f3-653f9034a6fa\" type=\"checkbox\" ><label class=\"sk-toggleable__label\" for=\"c6452ae0-4cb2-48f4-a1f3-653f9034a6fa\">categorical_preprocessing</label><div class=\"sk-toggleable__content\"><pre>['Site', 'flow', 'Device']</pre></div></div></div><div class=\"sk-serial\"><div class=\"sk-item\"><div class=\"sk-serial\"><div class=\"sk-item\"><div class=\"sk-estimator sk-toggleable\"><input class=\"sk-toggleable__control sk-hidden--visually\" id=\"1a222a92-8b7f-4a00-928e-79bdd8915295\" type=\"checkbox\" ><label class=\"sk-toggleable__label\" for=\"1a222a92-8b7f-4a00-928e-79bdd8915295\">OneHotEncoder</label><div class=\"sk-toggleable__content\"><pre>OneHotEncoder()</pre></div></div></div></div></div></div></div></div><div class=\"sk-parallel-item\"><div class=\"sk-item\"><div class=\"sk-label-container\"><div class=\"sk-label sk-toggleable\"><input class=\"sk-toggleable__control sk-hidden--visually\" id=\"65912a1e-9d22-4d38-ae7c-ca01ae90aa15\" type=\"checkbox\" ><label class=\"sk-toggleable__label\" for=\"65912a1e-9d22-4d38-ae7c-ca01ae90aa15\">numerical_preprocessing</label><div class=\"sk-toggleable__content\"><pre>['Loading', 'Shipping', 'Payments', 'Review', 'Congrats', 'TOTAL']</pre></div></div></div><div class=\"sk-serial\"><div class=\"sk-item\"><div class=\"sk-serial\"><div class=\"sk-item\"><div class=\"sk-estimator sk-toggleable\"><input class=\"sk-toggleable__control sk-hidden--visually\" id=\"437a2500-bca2-497c-b1ec-2476748ce9ee\" type=\"checkbox\" ><label class=\"sk-toggleable__label\" for=\"437a2500-bca2-497c-b1ec-2476748ce9ee\">SimpleImputer</label><div class=\"sk-toggleable__content\"><pre>SimpleImputer()</pre></div></div></div><div class=\"sk-item\"><div class=\"sk-estimator sk-toggleable\"><input class=\"sk-toggleable__control sk-hidden--visually\" id=\"a2191680-9bae-450d-968f-fb29c82778e8\" type=\"checkbox\" ><label class=\"sk-toggleable__label\" for=\"a2191680-9bae-450d-968f-fb29c82778e8\">StandardScaler</label><div class=\"sk-toggleable__content\"><pre>StandardScaler()</pre></div></div></div></div></div></div></div></div></div></div><div class=\"sk-item\"><div class=\"sk-estimator sk-toggleable\"><input class=\"sk-toggleable__control sk-hidden--visually\" id=\"3a3d42bd-6e3e-48cf-bc1a-c06e79cac80b\" type=\"checkbox\" ><label class=\"sk-toggleable__label\" for=\"3a3d42bd-6e3e-48cf-bc1a-c06e79cac80b\">OneClassSVM</label><div class=\"sk-toggleable__content\"><pre>OneClassSVM()</pre></div></div></div></div></div></div></div>"
      ],
      "text/plain": [
       "Pipeline(steps=[('preprocess',\n",
       "                 ColumnTransformer(transformers=[('categorical_preprocessing',\n",
       "                                                  Pipeline(steps=[('ohe',\n",
       "                                                                   OneHotEncoder())]),\n",
       "                                                  ['Site', 'flow', 'Device']),\n",
       "                                                 ('numerical_preprocessing',\n",
       "                                                  Pipeline(steps=[('imputation',\n",
       "                                                                   SimpleImputer()),\n",
       "                                                                  ('scaler',\n",
       "                                                                   StandardScaler())]),\n",
       "                                                  ['Loading', 'Shipping',\n",
       "                                                   'Payments', 'Review',\n",
       "                                                   'Congrats', 'TOTAL'])])),\n",
       "                ('clf', OneClassSVM())])"
      ]
     },
     "execution_count": 47,
     "metadata": {},
     "output_type": "execute_result"
    }
   ],
   "source": [
    "# define individual transformers in a pipeline\n",
    "categorical_preprocessing = Pipeline([\n",
    "    ('ohe', OneHotEncoder())#transforma las categoricas en numericas\n",
    "])\n",
    "numerical_preprocessing = Pipeline([\n",
    "    ('imputation', SimpleImputer()),#nan, valores perdidos\n",
    "    ('scaler', StandardScaler())#normaliza los valores\n",
    "])\n",
    "\n",
    "# define which transformer applies to which columns\n",
    "preprocess = ColumnTransformer([\n",
    "    ('categorical_preprocessing', categorical_preprocessing, [\"Site\", \"flow\",\"Device\"]),\n",
    "    ('numerical_preprocessing', numerical_preprocessing, [\"Loading\",\"Shipping\",\"Payments\",\"Review\",\"Congrats\",\"TOTAL\"])\n",
    "])\n",
    "\n",
    "#SVM\n",
    "# define clasifier\n",
    "outliers_fraction = 0.09 \n",
    "\n",
    "#CLASIFICADOR\n",
    "#model = OneClassSVM(nu=outliers_fraction, kernel=\"rbf\", gamma=0.02)\n",
    "#**\n",
    "\n",
    "\n",
    "model = OneClassSVM()\n",
    "\n",
    "# create the final pipeline with preprocessing steps and \n",
    "# the final classifier step\n",
    "#parameters = {#*\n",
    "#'clf__kernel': [\"poly\", \"rbf\", \"sigmoid\"],#*\n",
    "#        'clf__u': [0.01, 0.02, 0.05, 0.1, 0.5, 0.9],#*\n",
    "#}\n",
    "\n",
    "\n",
    "#classifier step\n",
    "pipeline = Pipeline([\n",
    "    ('preprocess', preprocess),\n",
    "    ('clf', model )\n",
    "])\n",
    "pipeline\n",
    "\n",
    "#initialize\n",
    "#grid_pipeline = GridSearchCV(pipeline, parameters, scoring=\"f1\")\n",
    "\n",
    "##**\n",
    "#fit\n",
    "#grid_pipeline.fit(X_train,y_train)\n",
    "#grid_pipeline.best_params_"
   ]
  },
  {
   "cell_type": "code",
   "execution_count": null,
   "metadata": {},
   "outputs": [],
   "source": []
  },
  {
   "cell_type": "code",
   "execution_count": 48,
   "metadata": {},
   "outputs": [
    {
     "data": {
      "text/plain": [
       "5512   -1\n",
       "7352   -1\n",
       "6040    1\n",
       "5624   -1\n",
       "6808   -1\n",
       "       ..\n",
       "3656   -1\n",
       "2232   -1\n",
       "408    -1\n",
       "5528    1\n",
       "6600   -1\n",
       "Name: class, Length: 74, dtype: int64"
      ]
     },
     "metadata": {},
     "output_type": "display_data"
    },
    {
     "data": {
      "text/plain": [
       "array([-1, -1,  1, -1, -1, -1,  1,  1,  1, -1, -1, -1, -1, -1,  1, -1,  1,\n",
       "        1,  1,  1, -1,  1, -1, -1,  1,  1, -1,  1,  1,  1, -1, -1, -1,  1,\n",
       "       -1,  1, -1, -1, -1, -1,  1, -1,  1, -1,  1, -1,  1,  1, -1,  1, -1,\n",
       "       -1, -1, -1,  1,  1, -1,  1,  1,  1,  1,  1, -1, -1, -1, -1,  1, -1,\n",
       "       -1,  1,  1,  1, -1, -1], dtype=int64)"
      ]
     },
     "metadata": {},
     "output_type": "display_data"
    },
    {
     "name": "stdout",
     "output_type": "stream",
     "text": [
      "[[35 31]\n",
      " [ 5  3]]\n"
     ]
    },
    {
     "data": {
      "image/png": "[encoded data removed]",
      "text/plain": [
       "<Figure size 432x432 with 2 Axes>"
      ]
     },
     "metadata": {},
     "output_type": "display_data"
    },
    {
     "name": "stdout",
     "output_type": "stream",
     "text": [
      "MAE                                         : 0.973\n",
      "Precision                                   : 0.088\n",
      "Recall                                      : 0.375\n",
      "F1-Score                                    : 0.143\n",
      "\n",
      "Precision Recall F1-Score Support Per Class : \n",
      " (array([0.875     , 0.08823529]), array([0.53030303, 0.375     ]), array([0.66037736, 0.14285714]), array([66,  8], dtype=int64))\n",
      "\n",
      "Classification Report                       : \n",
      "              precision    recall  f1-score   support\n",
      "\n",
      "          -1       0.88      0.53      0.66        66\n",
      "           1       0.09      0.38      0.14         8\n",
      "\n",
      "    accuracy                           0.51        74\n",
      "   macro avg       0.48      0.45      0.40        74\n",
      "weighted avg       0.79      0.51      0.60        74\n",
      "\n"
     ]
    }
   ],
   "source": [
    "#Realizamos el ajuste\n",
    "pipeline.fit(X_train,y_train)\n",
    "\n",
    "# evaluate the model against test data\n",
    "yhat = pipeline.predict(X_test) #clasifico\n",
    "\n",
    "display(y_test)\n",
    "display(yhat)\n",
    "\n",
    "# evaluate predictions\n",
    "confusion_matrix_plot(y_test, yhat)\n",
    "print_report( y_test, yhat )\n",
    "#\n"
   ]
  },
  {
   "cell_type": "code",
   "execution_count": 49,
   "metadata": {},
   "outputs": [
    {
     "data": {
      "image/png": "[encoded data removed]",
      "text/plain": [
       "<Figure size 1152x288 with 1 Axes>"
      ]
     },
     "metadata": {
      "needs_background": "light"
     },
     "output_type": "display_data"
    }
   ],
   "source": [
    "fig, ax = plt.subplots(figsize=(16,4))\n",
    "a = result.loc[ result[\"anomaly\"] == 1 , [\"Fecha\" , \"TOTAL\"] ] #anomaly\n",
    "\n",
    "ax.plot(result[\"Fecha\"], result[\"TOTAL\"], color='blue')\n",
    "ax.scatter(a[\"Fecha\"],a[\"TOTAL\"], color='red')\n",
    "\n",
    "plt.show();"
   ]
  },
  {
   "cell_type": "code",
   "execution_count": 50,
   "metadata": {},
   "outputs": [],
   "source": [
    "#MODELO OneClassSVM"
   ]
  },
  {
   "cell_type": "code",
   "execution_count": 54,
   "metadata": {},
   "outputs": [
    {
     "data": {
      "text/plain": [
       "{'clf__degree': 4, 'clf__kernel': 'poly', 'clf__nu': 0.7}"
      ]
     },
     "execution_count": 54,
     "metadata": {},
     "output_type": "execute_result"
    }
   ],
   "source": [
    "from sklearn.model_selection import GridSearchCV\n",
    "from sklearn.metrics import f1_score, make_scorer\n",
    "\n",
    "# define clasifier\n",
    "model = OneClassSVM()\n",
    "\n",
    "#classifier step\n",
    "pipeline = Pipeline([\n",
    "    ('preprocess', preprocess),\n",
    "    ('clf', model )\n",
    "])\n",
    "\n",
    "parameters = {\n",
    "    'clf__kernel': [\"poly\", \"rbf\", \"sigmoid\"],\n",
    "    'clf__nu': [0.01, 0.02, 0.05, 0.1, 0.2, 0.3, 0.4, 0.5, 0.6, 0.65, 0.66, 0.68, 0.7, 0.8, 0.9, 0.95, 0.99],\n",
    "    'clf__degree':[2,3,4],\n",
    "    #'clf__gamma':[\"scale\",\"auto\"]\n",
    "}\n",
    "#display(pipeline.get_params().keys()) \n",
    "\n",
    "#initialize\n",
    "grid_pipeline = GridSearchCV(pipeline, parameters, scoring=\"f1\") \n",
    "\n",
    "grid_pipeline.fit(X_train,y_train)\n",
    "grid_pipeline.best_params_"
   ]
  },
  {
   "cell_type": "code",
   "execution_count": 55,
   "metadata": {},
   "outputs": [
    {
     "data": {
      "text/html": [
       "<div>\n",
       "<style scoped>\n",
       "    .dataframe tbody tr th:only-of-type {\n",
       "        vertical-align: middle;\n",
       "    }\n",
       "\n",
       "    .dataframe tbody tr th {\n",
       "        vertical-align: top;\n",
       "    }\n",
       "\n",
       "    .dataframe thead th {\n",
       "        text-align: right;\n",
       "    }\n",
       "</style>\n",
       "<table border=\"1\" class=\"dataframe\">\n",
       "  <thead>\n",
       "    <tr style=\"text-align: right;\">\n",
       "      <th></th>\n",
       "      <th>mean_fit_time</th>\n",
       "      <th>std_fit_time</th>\n",
       "      <th>mean_score_time</th>\n",
       "      <th>std_score_time</th>\n",
       "      <th>param_clf__degree</th>\n",
       "      <th>param_clf__kernel</th>\n",
       "      <th>param_clf__nu</th>\n",
       "      <th>params</th>\n",
       "      <th>split0_test_score</th>\n",
       "      <th>split1_test_score</th>\n",
       "      <th>split2_test_score</th>\n",
       "      <th>split3_test_score</th>\n",
       "      <th>split4_test_score</th>\n",
       "      <th>mean_test_score</th>\n",
       "      <th>std_test_score</th>\n",
       "      <th>rank_test_score</th>\n",
       "    </tr>\n",
       "  </thead>\n",
       "  <tbody>\n",
       "    <tr>\n",
       "      <th>114</th>\n",
       "      <td>0.006791</td>\n",
       "      <td>0.000404</td>\n",
       "      <td>0.002983</td>\n",
       "      <td>0.000016</td>\n",
       "      <td>4</td>\n",
       "      <td>poly</td>\n",
       "      <td>0.7</td>\n",
       "      <td>{'clf__degree': 4, 'clf__kernel': 'poly', 'clf...</td>\n",
       "      <td>0.333333</td>\n",
       "      <td>0.277778</td>\n",
       "      <td>0.250000</td>\n",
       "      <td>0.121212</td>\n",
       "      <td>0.324324</td>\n",
       "      <td>0.261330</td>\n",
       "      <td>0.076400</td>\n",
       "      <td>1</td>\n",
       "    </tr>\n",
       "    <tr>\n",
       "      <th>59</th>\n",
       "      <td>0.008376</td>\n",
       "      <td>0.001008</td>\n",
       "      <td>0.003799</td>\n",
       "      <td>0.000399</td>\n",
       "      <td>3</td>\n",
       "      <td>poly</td>\n",
       "      <td>0.6</td>\n",
       "      <td>{'clf__degree': 3, 'clf__kernel': 'poly', 'clf...</td>\n",
       "      <td>0.333333</td>\n",
       "      <td>0.222222</td>\n",
       "      <td>0.318182</td>\n",
       "      <td>0.150000</td>\n",
       "      <td>0.272727</td>\n",
       "      <td>0.259293</td>\n",
       "      <td>0.067007</td>\n",
       "      <td>2</td>\n",
       "    </tr>\n",
       "    <tr>\n",
       "      <th>58</th>\n",
       "      <td>0.007573</td>\n",
       "      <td>0.000501</td>\n",
       "      <td>0.003990</td>\n",
       "      <td>0.000620</td>\n",
       "      <td>3</td>\n",
       "      <td>poly</td>\n",
       "      <td>0.5</td>\n",
       "      <td>{'clf__degree': 3, 'clf__kernel': 'poly', 'clf...</td>\n",
       "      <td>0.292683</td>\n",
       "      <td>0.280702</td>\n",
       "      <td>0.352941</td>\n",
       "      <td>0.125000</td>\n",
       "      <td>0.210526</td>\n",
       "      <td>0.252370</td>\n",
       "      <td>0.078123</td>\n",
       "      <td>3</td>\n",
       "    </tr>\n",
       "    <tr>\n",
       "      <th>113</th>\n",
       "      <td>0.007486</td>\n",
       "      <td>0.001204</td>\n",
       "      <td>0.003199</td>\n",
       "      <td>0.000396</td>\n",
       "      <td>4</td>\n",
       "      <td>poly</td>\n",
       "      <td>0.68</td>\n",
       "      <td>{'clf__degree': 4, 'clf__kernel': 'poly', 'clf...</td>\n",
       "      <td>0.312500</td>\n",
       "      <td>0.277778</td>\n",
       "      <td>0.235294</td>\n",
       "      <td>0.111111</td>\n",
       "      <td>0.324324</td>\n",
       "      <td>0.252201</td>\n",
       "      <td>0.077051</td>\n",
       "      <td>4</td>\n",
       "    </tr>\n",
       "    <tr>\n",
       "      <th>7</th>\n",
       "      <td>0.006979</td>\n",
       "      <td>0.000004</td>\n",
       "      <td>0.003187</td>\n",
       "      <td>0.000381</td>\n",
       "      <td>2</td>\n",
       "      <td>poly</td>\n",
       "      <td>0.5</td>\n",
       "      <td>{'clf__degree': 2, 'clf__kernel': 'poly', 'clf...</td>\n",
       "      <td>0.292683</td>\n",
       "      <td>0.271186</td>\n",
       "      <td>0.320000</td>\n",
       "      <td>0.127660</td>\n",
       "      <td>0.245614</td>\n",
       "      <td>0.251429</td>\n",
       "      <td>0.066554</td>\n",
       "      <td>5</td>\n",
       "    </tr>\n",
       "  </tbody>\n",
       "</table>\n",
       "</div>"
      ],
      "text/plain": [
       "     mean_fit_time  std_fit_time  mean_score_time  std_score_time  \\\n",
       "114       0.006791      0.000404         0.002983        0.000016   \n",
       "59        0.008376      0.001008         0.003799        0.000399   \n",
       "58        0.007573      0.000501         0.003990        0.000620   \n",
       "113       0.007486      0.001204         0.003199        0.000396   \n",
       "7         0.006979      0.000004         0.003187        0.000381   \n",
       "\n",
       "    param_clf__degree param_clf__kernel param_clf__nu  \\\n",
       "114                 4              poly           0.7   \n",
       "59                  3              poly           0.6   \n",
       "58                  3              poly           0.5   \n",
       "113                 4              poly          0.68   \n",
       "7                   2              poly           0.5   \n",
       "\n",
       "                                                params  split0_test_score  \\\n",
       "114  {'clf__degree': 4, 'clf__kernel': 'poly', 'clf...           0.333333   \n",
       "59   {'clf__degree': 3, 'clf__kernel': 'poly', 'clf...           0.333333   \n",
       "58   {'clf__degree': 3, 'clf__kernel': 'poly', 'clf...           0.292683   \n",
       "113  {'clf__degree': 4, 'clf__kernel': 'poly', 'clf...           0.312500   \n",
       "7    {'clf__degree': 2, 'clf__kernel': 'poly', 'clf...           0.292683   \n",
       "\n",
       "     split1_test_score  split2_test_score  split3_test_score  \\\n",
       "114           0.277778           0.250000           0.121212   \n",
       "59            0.222222           0.318182           0.150000   \n",
       "58            0.280702           0.352941           0.125000   \n",
       "113           0.277778           0.235294           0.111111   \n",
       "7             0.271186           0.320000           0.127660   \n",
       "\n",
       "     split4_test_score  mean_test_score  std_test_score  rank_test_score  \n",
       "114           0.324324         0.261330        0.076400                1  \n",
       "59            0.272727         0.259293        0.067007                2  \n",
       "58            0.210526         0.252370        0.078123                3  \n",
       "113           0.324324         0.252201        0.077051                4  \n",
       "7             0.245614         0.251429        0.066554                5  "
      ]
     },
     "execution_count": 55,
     "metadata": {},
     "output_type": "execute_result"
    }
   ],
   "source": [
    "results = grid_pipeline.cv_results_ \n",
    "\n",
    "df0 = pd.DataFrame(results)\n",
    "df0.sort_values(by='rank_test_score').head()"
   ]
  },
  {
   "cell_type": "code",
   "execution_count": 58,
   "metadata": {},
   "outputs": [
    {
     "name": "stdout",
     "output_type": "stream",
     "text": [
      "[[45 21]\n",
      " [ 6  2]]\n"
     ]
    },
    {
     "data": {
      "image/png": "[encoded data removed]",
      "text/plain": [
       "<Figure size 432x432 with 2 Axes>"
      ]
     },
     "metadata": {},
     "output_type": "display_data"
    },
    {
     "name": "stdout",
     "output_type": "stream",
     "text": [
      "MAE                                         : 0.730\n",
      "Precision                                   : 0.087\n",
      "Recall                                      : 0.250\n",
      "F1-Score                                    : 0.129\n",
      "\n",
      "Precision Recall F1-Score Support Per Class : \n",
      " (array([0.88235294, 0.08695652]), array([0.68181818, 0.25      ]), array([0.76923077, 0.12903226]), array([66,  8], dtype=int64))\n",
      "\n",
      "Classification Report                       : \n",
      "              precision    recall  f1-score   support\n",
      "\n",
      "          -1       0.88      0.68      0.77        66\n",
      "           1       0.09      0.25      0.13         8\n",
      "\n",
      "    accuracy                           0.64        74\n",
      "   macro avg       0.48      0.47      0.45        74\n",
      "weighted avg       0.80      0.64      0.70        74\n",
      "\n"
     ]
    }
   ],
   "source": [
    "model = OneClassSVM(degree = 4, kernel=\"poly\", nu=0.7)\n",
    "pipeline = Pipeline([\n",
    "    ('preprocess', preprocess),\n",
    "    ('clf', model )\n",
    "])\n",
    "grid_pipeline.fit(X_train,y_train)\n",
    "yhat = grid_pipeline.predict(X_test)\n",
    "\n",
    "# evaluate predictions\n",
    "confusion_matrix_plot(y_test, yhat)\n",
    "print_report( y_test, yhat )"
   ]
  },
  {
   "cell_type": "code",
   "execution_count": 53,
   "metadata": {},
   "outputs": [
    {
     "name": "stdout",
     "output_type": "stream",
     "text": [
      "[[39 27]\n",
      " [ 6  2]]\n"
     ]
    },
    {
     "data": {
      "image/png": "[encoded data removed]",
      "text/plain": [
       "<Figure size 432x432 with 2 Axes>"
      ]
     },
     "metadata": {},
     "output_type": "display_data"
    },
    {
     "name": "stdout",
     "output_type": "stream",
     "text": [
      "MAE                                         : 0.892\n",
      "Precision                                   : 0.069\n",
      "Recall                                      : 0.250\n",
      "F1-Score                                    : 0.108\n",
      "\n",
      "Precision Recall F1-Score Support Per Class : \n",
      " (array([0.86666667, 0.06896552]), array([0.59090909, 0.25      ]), array([0.7027027 , 0.10810811]), array([66,  8], dtype=int64))\n",
      "\n",
      "Classification Report                       : \n",
      "              precision    recall  f1-score   support\n",
      "\n",
      "          -1       0.87      0.59      0.70        66\n",
      "           1       0.07      0.25      0.11         8\n",
      "\n",
      "    accuracy                           0.55        74\n",
      "   macro avg       0.47      0.42      0.41        74\n",
      "weighted avg       0.78      0.55      0.64        74\n",
      "\n"
     ]
    }
   ],
   "source": [
    "model = OneClassSVM(kernel=\"poly\", nu=0.6)\n",
    "pipeline = Pipeline([\n",
    "    ('preprocess', preprocess),\n",
    "    ('clf', model )\n",
    "])\n",
    "grid_pipeline.fit(X_train,y_train)\n",
    "yhat = grid_pipeline.predict(X_test)\n",
    "\n",
    "# evaluate predictions\n",
    "confusion_matrix_plot(y_test, yhat)\n",
    "print_report( y_test, yhat )"
   ]
  },
  {
   "cell_type": "code",
   "execution_count": null,
   "metadata": {},
   "outputs": [],
   "source": []
  },
  {
   "cell_type": "code",
   "execution_count": null,
   "metadata": {},
   "outputs": [],
   "source": [
    "#MODELO DecisionTreeClassifier"
   ]
  },
  {
   "cell_type": "code",
   "execution_count": 59,
   "metadata": {},
   "outputs": [
    {
     "data": {
      "text/plain": [
       "{'clf__criterion': 'gini',\n",
       " 'clf__max_depth': 4,\n",
       " 'clf__random_state': 1,\n",
       " 'clf__splitter': 'best'}"
      ]
     },
     "execution_count": 59,
     "metadata": {},
     "output_type": "execute_result"
    }
   ],
   "source": [
    "from sklearn.model_selection import GridSearchCV\n",
    "from sklearn.metrics import f1_score, make_scorer\n",
    "\n",
    "# define clasifier\n",
    "model2 = DecisionTreeClassifier()\n",
    "\n",
    "#classifier step\n",
    "pipeline = Pipeline([\n",
    "    ('preprocess', preprocess),\n",
    "    ('clf', model2 )\n",
    "])\n",
    "\n",
    "parameters = {\n",
    "    'clf__criterion': [\"gini\", \"entropy\"],\n",
    "    'clf__splitter': [\"best\", \"random\"],\n",
    "    'clf__max_depth': [None, 1, 2, 3, 4, 5, 6, 7, 8, 9, 10],\n",
    "    'clf__random_state':[1, 42],\n",
    "}\n",
    "\n",
    "#DecisionTreeClassifier(max_leaf_nodes=None, random_state=0)\n",
    "\n",
    "#display(pipeline.get_params().keys()) \n",
    "\n",
    "#initialize\n",
    "grid_pipeline = GridSearchCV(pipeline, parameters, scoring=\"f1\") \n",
    "\n",
    "grid_pipeline.fit(X_train,y_train)\n",
    "grid_pipeline.best_params_\n"
   ]
  },
  {
   "cell_type": "code",
   "execution_count": 110,
   "metadata": {},
   "outputs": [
    {
     "name": "stdout",
     "output_type": "stream",
     "text": [
      "[[66  0]\n",
      " [ 3  5]]\n"
     ]
    },
    {
     "data": {
      "image/png": "[encoded data removed]",
      "text/plain": [
       "<Figure size 432x432 with 2 Axes>"
      ]
     },
     "metadata": {},
     "output_type": "display_data"
    },
    {
     "name": "stdout",
     "output_type": "stream",
     "text": [
      "MAE                                         : 0.081\n",
      "Precision                                   : 1.000\n",
      "Recall                                      : 0.625\n",
      "F1-Score                                    : 0.769\n",
      "\n",
      "Precision Recall F1-Score Support Per Class : \n",
      " (array([0.95652174, 1.        ]), array([1.   , 0.625]), array([0.97777778, 0.76923077]), array([66,  8], dtype=int64))\n",
      "\n",
      "Classification Report                       : \n",
      "              precision    recall  f1-score   support\n",
      "\n",
      "          -1       0.96      1.00      0.98        66\n",
      "           1       1.00      0.62      0.77         8\n",
      "\n",
      "    accuracy                           0.96        74\n",
      "   macro avg       0.98      0.81      0.87        74\n",
      "weighted avg       0.96      0.96      0.96        74\n",
      "\n"
     ]
    }
   ],
   "source": [
    "model = DecisionTreeClassifier(criterion=\"gini\", max_depth=4, random_state=1, splitter='best')\n",
    "pipeline = Pipeline([\n",
    "    ('preprocess', preprocess),\n",
    "    ('clf', model )\n",
    "])\n",
    "grid_pipeline.fit(X_train,y_train)\n",
    "yhat = grid_pipeline.predict(X_test)\n",
    "\n",
    "# evaluate predictions\n",
    "confusion_matrix_plot(y_test, yhat)\n",
    "print_report( y_test, yhat )"
   ]
  },
  {
   "cell_type": "code",
   "execution_count": 34,
   "metadata": {},
   "outputs": [],
   "source": [
    "# Isolation Forest"
   ]
  },
  {
   "cell_type": "code",
   "execution_count": 86,
   "metadata": {},
   "outputs": [
    {
     "data": {
      "text/plain": [
       "{'clf__max_samples': 4, 'clf__random_state': 42}"
      ]
     },
     "execution_count": 86,
     "metadata": {},
     "output_type": "execute_result"
    }
   ],
   "source": [
    "# define clasifier\n",
    "from sklearn.ensemble import IsolationForest\n",
    "model3 = IsolationForest()\n",
    "\n",
    "#classifier step\n",
    "pipeline = Pipeline([\n",
    "    ('preprocess', preprocess),\n",
    "    ('clf', model3 )\n",
    "])\n",
    "\n",
    "parameters = {\n",
    "    'clf__max_samples': [2,4,6,10],\n",
    "    'clf__random_state':[42]\n",
    "    \n",
    "}\n",
    "\n",
    "\n",
    "#display(pipeline.get_params().keys()) \n",
    "\n",
    "#initialize\n",
    "grid_pipeline = GridSearchCV(pipeline, parameters, scoring=\"f1\") \n",
    "\n",
    "grid_pipeline.fit(X_train,y_train)\n",
    "grid_pipeline.best_params_\n"
   ]
  },
  {
   "cell_type": "code",
   "execution_count": 87,
   "metadata": {},
   "outputs": [
    {
     "name": "stdout",
     "output_type": "stream",
     "text": [
      "[[10 56]\n",
      " [ 0  8]]\n"
     ]
    },
    {
     "data": {
      "image/png": "[encoded data removed]",
      "text/plain": [
       "<Figure size 432x432 with 2 Axes>"
      ]
     },
     "metadata": {},
     "output_type": "display_data"
    },
    {
     "name": "stdout",
     "output_type": "stream",
     "text": [
      "MAE                                         : 1.514\n",
      "Precision                                   : 0.125\n",
      "Recall                                      : 1.000\n",
      "F1-Score                                    : 0.222\n",
      "\n",
      "Precision Recall F1-Score Support Per Class : \n",
      " (array([1.   , 0.125]), array([0.15151515, 1.        ]), array([0.26315789, 0.22222222]), array([66,  8], dtype=int64))\n",
      "\n",
      "Classification Report                       : \n",
      "              precision    recall  f1-score   support\n",
      "\n",
      "          -1       1.00      0.15      0.26        66\n",
      "           1       0.12      1.00      0.22         8\n",
      "\n",
      "    accuracy                           0.24        74\n",
      "   macro avg       0.56      0.58      0.24        74\n",
      "weighted avg       0.91      0.24      0.26        74\n",
      "\n"
     ]
    }
   ],
   "source": [
    "from sklearn.ensemble import IsolationForest\n",
    "\n",
    "model = IsolationForest(max_samples=4, random_state=42)\n",
    "pipeline = Pipeline([\n",
    "    ('preprocess', preprocess),\n",
    "    ('clf', model )\n",
    "])\n",
    "grid_pipeline.fit(X_train,y_train)\n",
    "yhat = grid_pipeline.predict(X_test)\n",
    "\n",
    "# evaluate predictions\n",
    "confusion_matrix_plot(y_test, yhat)\n",
    "print_report( y_test, yhat )"
   ]
  },
  {
   "cell_type": "code",
   "execution_count": null,
   "metadata": {},
   "outputs": [],
   "source": []
  },
  {
   "cell_type": "code",
   "execution_count": null,
   "metadata": {},
   "outputs": [],
   "source": []
  },
  {
   "cell_type": "code",
   "execution_count": null,
   "metadata": {},
   "outputs": [],
   "source": []
  },
  {
   "cell_type": "code",
   "execution_count": null,
   "metadata": {},
   "outputs": [],
   "source": []
  },
  {
   "cell_type": "code",
   "execution_count": null,
   "metadata": {},
   "outputs": [],
   "source": [
    "\n",
    "\n"
   ]
  }
 ],
 "metadata": {
  "kernelspec": {
   "display_name": "Python 3",
   "language": "python",
   "name": "python3"
  },
  "language_info": {
   "codemirror_mode": {
    "name": "ipython",
    "version": 3
   },
   "file_extension": ".py",
   "mimetype": "text/x-python",
   "name": "python",
   "nbconvert_exporter": "python",
   "pygments_lexer": "ipython3",
   "version": "3.8.5"
  }
 },
 "nbformat": 4,
 "nbformat_minor": 4
}
