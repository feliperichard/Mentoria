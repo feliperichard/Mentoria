{
  "nbformat": 4,
  "nbformat_minor": 0,
  "metadata": {
    "kernelspec": {
      "display_name": "Python [conda env:ddatos21_ment_tp1] *",
      "language": "python",
      "name": "conda-env-ddatos21_ment_tp1-py"
    },
    "language_info": {
      "codemirror_mode": {
        "name": "ipython",
        "version": 3
      },
      "file_extension": ".py",
      "mimetype": "text/x-python",
      "name": "python",
      "nbconvert_exporter": "python",
      "pygments_lexer": "ipython3",
      "version": "3.8.5"
    },
    "colab": {
      "name": "Tp1_analisis_y_visualizacion Grupo 2.ipynb",
      "provenance": [],
      "collapsed_sections": [
        "u_AB4T4hR5E8",
        "5HyGdO8GR5E-",
        "lNRblA6UR5E-",
        "pRzf4R5ER5E_",
        "wzw7cCtOR5FB",
        "IJY3LMYygJ0a",
        "mL_WdG63GHpA",
        "oFp9fIJmUZUj",
        "BecSePQLR5FE",
        "859OnDgYR5FF"
      ],
      "toc_visible": true,
      "include_colab_link": true
    }
  },
  "cells": [
    {
      "cell_type": "markdown",
      "metadata": {
        "id": "view-in-github",
        "colab_type": "text"
      },
      "source": [
        "<a href=\"https://colab.research.google.com/github/feliperichard/diplodatos2021-datasets/blob/main/TP1_Analisis_y_Visualizacion/Tp1_analisis_y_visualizacion_Grupo_2.ipynb\" target=\"_parent\"><img src=\"https://colab.research.google.com/assets/colab-badge.svg\" alt=\"Open In Colab\"/></a>"
      ]
    },
    {
      "cell_type": "markdown",
      "metadata": {
        "id": "u_AB4T4hR5E8"
      },
      "source": [
        "# 1. Trabajo Práctico N°1: de Analisis + Visualización"
      ]
    },
    {
      "cell_type": "markdown",
      "metadata": {
        "id": "5HyGdO8GR5E-"
      },
      "source": [
        "## 1.1 Armado de Cono de Conversión y evolución de uso de un producto digital\n"
      ]
    },
    {
      "cell_type": "markdown",
      "metadata": {
        "id": "lNRblA6UR5E-"
      },
      "source": [
        "### Introducción\n",
        "En este práctico se pretende obtener una primera aproximación al dataset bajo análisis. En primer lugar se cargan y presentan brevemente los datos. Luego se proponen las consignas a seguir para la resolución del mismo."
      ]
    },
    {
      "cell_type": "code",
      "metadata": {
        "id": "zFK3NjS6R5E-"
      },
      "source": [
        "\n",
        "\n",
        "import numpy as np\n",
        "import pandas as pd\n",
        " \n",
        "%matplotlib inline\n",
        "import matplotlib.pyplot as plt\n",
        "import seaborn \n",
        "seaborn.set_context('talk')"
      ],
      "execution_count": 4,
      "outputs": []
    },
    {
      "cell_type": "code",
      "metadata": {
        "id": "j3HPPLlVR5E_"
      },
      "source": [
        "# some config\n",
        "plt.rcParams['figure.figsize'] = (12, 9)"
      ],
      "execution_count": 5,
      "outputs": []
    },
    {
      "cell_type": "markdown",
      "metadata": {
        "id": "6deOSFgKR5E_"
      },
      "source": [
        ""
      ]
    },
    {
      "cell_type": "markdown",
      "metadata": {
        "id": "pRzf4R5ER5E_"
      },
      "source": [
        "## Carga del dataset"
      ]
    },
    {
      "cell_type": "code",
      "metadata": {
        "id": "nl8jb1heDnkw"
      },
      "source": [
        "url =\"https://raw.githubusercontent.com/feliperichard/diplodatos2021-datasets/main/traffic_AR_CL_UY.csv\"\n",
        "traffic_data = pd.read_csv(url,usecols = [\"Fecha\", \"flow\", \"Site\", \"Device\", \"Loading\", \"Shipping\", \"Payments\", \"Review\", \"Congrats\"], parse_dates=[\"Fecha\"])"
      ],
      "execution_count": 6,
      "outputs": []
    },
    {
      "cell_type": "markdown",
      "metadata": {
        "id": "z7zWatORR5FA"
      },
      "source": [
        "Ejecutamos un breve  repaso exploratorio"
      ]
    },
    {
      "cell_type": "code",
      "metadata": {
        "id": "bAu8Ki88R5FA",
        "colab": {
          "base_uri": "https://localhost:8080/",
          "height": 363
        },
        "outputId": "2d2cb59c-6854-4fe4-b329-2339e7e624e1"
      },
      "source": [
        "traffic_data.head(10)"
      ],
      "execution_count": 7,
      "outputs": [
        {
          "output_type": "execute_result",
          "data": {
            "text/html": [
              "<div>\n",
              "<style scoped>\n",
              "    .dataframe tbody tr th:only-of-type {\n",
              "        vertical-align: middle;\n",
              "    }\n",
              "\n",
              "    .dataframe tbody tr th {\n",
              "        vertical-align: top;\n",
              "    }\n",
              "\n",
              "    .dataframe thead th {\n",
              "        text-align: right;\n",
              "    }\n",
              "</style>\n",
              "<table border=\"1\" class=\"dataframe\">\n",
              "  <thead>\n",
              "    <tr style=\"text-align: right;\">\n",
              "      <th></th>\n",
              "      <th>Fecha</th>\n",
              "      <th>flow</th>\n",
              "      <th>Site</th>\n",
              "      <th>Device</th>\n",
              "      <th>Loading</th>\n",
              "      <th>Shipping</th>\n",
              "      <th>Payments</th>\n",
              "      <th>Review</th>\n",
              "      <th>Congrats</th>\n",
              "    </tr>\n",
              "  </thead>\n",
              "  <tbody>\n",
              "    <tr>\n",
              "      <th>0</th>\n",
              "      <td>2019-03-01</td>\n",
              "      <td>cart</td>\n",
              "      <td>MLA</td>\n",
              "      <td>Android</td>\n",
              "      <td>0</td>\n",
              "      <td>7084</td>\n",
              "      <td>5313</td>\n",
              "      <td>3981</td>\n",
              "      <td>3731</td>\n",
              "    </tr>\n",
              "    <tr>\n",
              "      <th>1</th>\n",
              "      <td>2019-03-01</td>\n",
              "      <td>cart</td>\n",
              "      <td>MLA</td>\n",
              "      <td>Desktop</td>\n",
              "      <td>0</td>\n",
              "      <td>5419</td>\n",
              "      <td>4177</td>\n",
              "      <td>3580</td>\n",
              "      <td>3479</td>\n",
              "    </tr>\n",
              "    <tr>\n",
              "      <th>2</th>\n",
              "      <td>2019-03-01</td>\n",
              "      <td>cart</td>\n",
              "      <td>MLA</td>\n",
              "      <td>Mobile</td>\n",
              "      <td>0</td>\n",
              "      <td>2426</td>\n",
              "      <td>1832</td>\n",
              "      <td>1373</td>\n",
              "      <td>1290</td>\n",
              "    </tr>\n",
              "    <tr>\n",
              "      <th>3</th>\n",
              "      <td>2019-03-01</td>\n",
              "      <td>cart</td>\n",
              "      <td>MLA</td>\n",
              "      <td>iOS</td>\n",
              "      <td>0</td>\n",
              "      <td>1179</td>\n",
              "      <td>856</td>\n",
              "      <td>671</td>\n",
              "      <td>622</td>\n",
              "    </tr>\n",
              "    <tr>\n",
              "      <th>4</th>\n",
              "      <td>2019-03-01</td>\n",
              "      <td>direct</td>\n",
              "      <td>MLA</td>\n",
              "      <td>Android</td>\n",
              "      <td>160081</td>\n",
              "      <td>152310</td>\n",
              "      <td>124551</td>\n",
              "      <td>89380</td>\n",
              "      <td>83856</td>\n",
              "    </tr>\n",
              "    <tr>\n",
              "      <th>5</th>\n",
              "      <td>2019-03-01</td>\n",
              "      <td>direct</td>\n",
              "      <td>MLA</td>\n",
              "      <td>Desktop</td>\n",
              "      <td>98263</td>\n",
              "      <td>93506</td>\n",
              "      <td>80994</td>\n",
              "      <td>63941</td>\n",
              "      <td>62256</td>\n",
              "    </tr>\n",
              "    <tr>\n",
              "      <th>6</th>\n",
              "      <td>2019-03-01</td>\n",
              "      <td>direct</td>\n",
              "      <td>MLA</td>\n",
              "      <td>Mobile</td>\n",
              "      <td>69273</td>\n",
              "      <td>65385</td>\n",
              "      <td>51310</td>\n",
              "      <td>35665</td>\n",
              "      <td>33229</td>\n",
              "    </tr>\n",
              "    <tr>\n",
              "      <th>7</th>\n",
              "      <td>2019-03-01</td>\n",
              "      <td>direct</td>\n",
              "      <td>MLA</td>\n",
              "      <td>iOS</td>\n",
              "      <td>29215</td>\n",
              "      <td>27378</td>\n",
              "      <td>23245</td>\n",
              "      <td>17899</td>\n",
              "      <td>16835</td>\n",
              "    </tr>\n",
              "    <tr>\n",
              "      <th>8</th>\n",
              "      <td>2019-03-01</td>\n",
              "      <td>direct</td>\n",
              "      <td>MLC</td>\n",
              "      <td>Desktop</td>\n",
              "      <td>14970</td>\n",
              "      <td>14818</td>\n",
              "      <td>12629</td>\n",
              "      <td>10444</td>\n",
              "      <td>9827</td>\n",
              "    </tr>\n",
              "    <tr>\n",
              "      <th>9</th>\n",
              "      <td>2019-03-01</td>\n",
              "      <td>direct</td>\n",
              "      <td>MLC</td>\n",
              "      <td>Mobile</td>\n",
              "      <td>14840</td>\n",
              "      <td>14695</td>\n",
              "      <td>11084</td>\n",
              "      <td>8567</td>\n",
              "      <td>7445</td>\n",
              "    </tr>\n",
              "  </tbody>\n",
              "</table>\n",
              "</div>"
            ],
            "text/plain": [
              "       Fecha    flow Site   Device  ...  Shipping  Payments  Review  Congrats\n",
              "0 2019-03-01    cart  MLA  Android  ...      7084      5313    3981      3731\n",
              "1 2019-03-01    cart  MLA  Desktop  ...      5419      4177    3580      3479\n",
              "2 2019-03-01    cart  MLA   Mobile  ...      2426      1832    1373      1290\n",
              "3 2019-03-01    cart  MLA      iOS  ...      1179       856     671       622\n",
              "4 2019-03-01  direct  MLA  Android  ...    152310    124551   89380     83856\n",
              "5 2019-03-01  direct  MLA  Desktop  ...     93506     80994   63941     62256\n",
              "6 2019-03-01  direct  MLA   Mobile  ...     65385     51310   35665     33229\n",
              "7 2019-03-01  direct  MLA      iOS  ...     27378     23245   17899     16835\n",
              "8 2019-03-01  direct  MLC  Desktop  ...     14818     12629   10444      9827\n",
              "9 2019-03-01  direct  MLC   Mobile  ...     14695     11084    8567      7445\n",
              "\n",
              "[10 rows x 9 columns]"
            ]
          },
          "metadata": {
            "tags": []
          },
          "execution_count": 7
        }
      ]
    },
    {
      "cell_type": "code",
      "metadata": {
        "id": "FrQk5qTOHqGg"
      },
      "source": [
        "traffic_data.set_index(\"Fecha\", inplace = True)"
      ],
      "execution_count": 8,
      "outputs": []
    },
    {
      "cell_type": "code",
      "metadata": {
        "id": "QY_6WxwzR5FB",
        "colab": {
          "base_uri": "https://localhost:8080/"
        },
        "outputId": "bf42b858-976e-437f-9b5b-4b928321b18d"
      },
      "source": [
        "traffic_data.info()"
      ],
      "execution_count": 9,
      "outputs": [
        {
          "output_type": "stream",
          "text": [
            "<class 'pandas.core.frame.DataFrame'>\n",
            "DatetimeIndex: 7709 entries, 2019-03-01 to 2020-06-30\n",
            "Data columns (total 8 columns):\n",
            " #   Column    Non-Null Count  Dtype \n",
            "---  ------    --------------  ----- \n",
            " 0   flow      7709 non-null   object\n",
            " 1   Site      7709 non-null   object\n",
            " 2   Device    7709 non-null   object\n",
            " 3   Loading   7709 non-null   int64 \n",
            " 4   Shipping  7709 non-null   int64 \n",
            " 5   Payments  7709 non-null   int64 \n",
            " 6   Review    7709 non-null   int64 \n",
            " 7   Congrats  7709 non-null   int64 \n",
            "dtypes: int64(5), object(3)\n",
            "memory usage: 542.0+ KB\n"
          ],
          "name": "stdout"
        }
      ]
    },
    {
      "cell_type": "markdown",
      "metadata": {
        "id": "wzw7cCtOR5FB"
      },
      "source": [
        "### Descripción de variables\n",
        "\n",
        "Para describir el comportamienot de los usuarios usaremos 3 variales utilizadas como \"indice compuesto\"\n",
        "- **Fecha**\n",
        "- **flow**\n",
        "- **Site**\n",
        "- **Device**\n",
        "\n",
        "| Nombre   |  Tipo  | Formato      | Descripción |\n",
        "|:---------|:-------|:------------:|:------------|\n",
        "| *Fecha   |  Date  |  YYYY-MM-DD  | Los valores corresponde a los eventos registrados durante este día |\n",
        "| *flow    | String |  direct-cart | Define si el flujo corresponde a compra directa o de carrito      |\n",
        "| *Site    | String |     XXX      | Describe el site al que corresponden las sesiones   |\n",
        "| *Device  | String |              | Define el dispositivo donde se ejecuto el flujo de compra |\n",
        "| Loading  | Entero |              | Cantidad de sesiones que vieron el paso de Loading  |\n",
        "| Shipping | Entero |              | Cantidad de sesiones que vieron el paso de Shipping |\n",
        "| Payments | Entero |              | Cantidad de sesiones que vieron el paso de Payments |\n",
        "| Review   | Entero |              | Cantidad de sesiones que vieron el paso de Review   |\n",
        "| Congrats | Entero |              | Cantidad de sesiones que vieron el paso de Congrats |\n",
        "\n",
        "**Observaciones:**\n",
        "- **Loading**\n",
        "- **Shipping**\n",
        "- **Payments**\n",
        "- **Review**\n",
        "- **Congrats**\n"
      ]
    },
    {
      "cell_type": "markdown",
      "metadata": {
        "id": "Z_b6_Uw0R5FB"
      },
      "source": [
        "# Consignas del trabajo práctico N°1"
      ]
    },
    {
      "cell_type": "markdown",
      "metadata": {
        "id": "7EpWXSVYR5FC"
      },
      "source": [
        "El objetivo general del práctico es realizar una análsis exploratorio de __las observaciones__ del dataset.\n",
        "\n",
        "Se sugiere explorar las series de forma individual y conjunta por medio de medidas descriptivas y visualizaciones, con la finalidad de confeccionar un informe detallado sobre los índices analizados que nos ayude a modelar las series y hacer pronósticos.\n",
        "\n",
        "Como los valores observados se indizan en relación al tiempo, este tipo de datos se conocen como __series temporales__, por lo que algunas de las herramientas estadísticas habituales deben interpretarse con cierto cuidado y se pueden usar algunos recursos analíticos adicionales. \n",
        "El siguiente [tutorial](https://www.dataquest.io/blog/tutorial-time-series-analysis-with-pandas/) puede ser de gran ayuda para introducirse en la confección de algunos gráficos para series de tiempo y funcionalidades básicas de pandas para dicho tipo de datos.\n",
        "\n",
        "   \n",
        "Para los siguientes puntos elija:\n",
        "1. Un site por analizar\n",
        "2. Un tipo de flujo de compra ( compra directa versus modo carrito )\n",
        "3. Dos plataformas ( Se sugiere tomar una Web Desktop o Mobile y otra de las applicaciones Android o iOS ej: Desktop vs Android )\n",
        "4. De necesitarlo necesitará resamplear los valores a nivel de día como mínimo\n",
        "5. Una vez ejecutado los pasos anterioes debería contar con 2 series temporales ( y no todo el dataset ) referidas al mismo pais pero en 2 plataformas diferentes.\n",
        "\n",
        "Se proponen las siguientes actividades:\n",
        "\n",
        "- Determine el tipo de variables y el período de tiempo bajo análisis\n",
        "\n",
        "- Indague sobre la existencia de valores faltantes.  \n",
        "\n",
        "- ¿Cómo trataría a los faltantes? ¿Por qué? (El tratamiento de valores faltantes será parte del \n",
        "    práctico de curación y pueden omitirlos, en caso de necesitar inputar valores pueden tomar periodos que ls omitan )\n",
        " \n",
        "\n",
        "- Analice las distribuciones por medio de gráficos(por ejemplo: histogramas y boxplots) y medidas de estadística descriptiva (por ejemplo: media, varianza y coeficiente de variación). Puede derivar alguna afirmación del análisis de los coeficientes de asimetría y kurtosis\n",
        "\n",
        "- ¿Hay outliers? Si es así, ¿qué sugiere hacer con ellos?\n",
        "\n",
        "- Seleccione una serie temporal de las anteriores y grafique un boxplot para cada mes. \n",
        "  - ¿Se mantiene inalterada en el tiempo la distribución?\n",
        "\n",
        "- Una buena forma de explorar la evolución y efectividad de este tipo de productos digitales es armar **un cono de conversion**, que es un histograma donde cada columna es un paso del flujo y refleja el total de sesiones acumulada en el paso durante un periodo de timepo dado\n",
        "    - La idea es poder refresentar el cono de conversion parecida a la inferior \n",
        "    - Usaremos los pasos de Shipping hasta Congrats ( podemos obviar Loading )\n",
        "    - Basandose en lo anterior podría afirmar que una plataforma es más eficiente que otra ( más sessiones al final del cono de conversion )\n",
        "\n",
        "![Cono de conversion](https://github.com/luisdvlpr/diplodatos2021-datasets/blob/main/TP1_Analisis_y_Visualizacion/assets/ConoDeConversion.png?raw=1)\n",
        "\n",
        "- Estudie la evolución temporal de las observaciones. \n",
        "  - ¿En qué sentido tienden a moverse? \n",
        "  - ¿Hay períodos de crisis(caídas fuertes y repentinas de los índices)? ¿Podría asociarlos a eventos?\n",
        "  - ¿Coinciden con las noticias? \n",
        "  - ¿Los índices tienden a moverse en forma conjunta?  \n",
        "\n",
        "- Investigue si las observaciones tienden a moverse en forma conjunta. ¿Siempre se da dicho patrón?\n",
        "\n",
        "![Cono de conversion](https://github.com/luisdvlpr/diplodatos2021-datasets/blob/main/TP1_Analisis_y_Visualizacion/assets/Evolucion.png?raw=1)\n",
        "\n",
        "- **Extra Mile**\n",
        "    - Seleccione un serie de referencia y confeccione un diagrama de dispersión entre el mismo y su valor retardado un período. Repita con valores de retardo hasta 7 periodos\n",
        " \n",
        "    - Grafique e interprete las funciones de autocorrelación (ACF) y autocorrelación parcial (PACF). El siguiente [INTRO a ACF PACF](https://machinelearningmastery.com/gentle-introduction-autocorrelation-partial-autocorrelation/) puede ser útil para una primera aproximación\n",
        "\n",
        "\n",
        "Para la ejecución de los ultimos puntos tambienpuede basarse en las siguientes referencias\n",
        "\n",
        "[ Visualizaciones de series temporales ](https://learnpython.com/blog/python-data-visualization-pandas-matplotlib/)\n",
        "\n",
        "[ Visualización y Analisis de Series Temporales ]( https://kanoki.org/2020/04/27/time-series-analysis-data-visualization/ )"
      ]
    },
    {
      "cell_type": "code",
      "metadata": {
        "colab": {
          "base_uri": "https://localhost:8080/",
          "height": 300
        },
        "id": "y_dvREvFdfoU",
        "outputId": "1055d44c-a88f-4a8b-f438-77823fde12a1"
      },
      "source": [
        "traffic_data.describe()"
      ],
      "execution_count": 10,
      "outputs": [
        {
          "output_type": "execute_result",
          "data": {
            "text/html": [
              "<div>\n",
              "<style scoped>\n",
              "    .dataframe tbody tr th:only-of-type {\n",
              "        vertical-align: middle;\n",
              "    }\n",
              "\n",
              "    .dataframe tbody tr th {\n",
              "        vertical-align: top;\n",
              "    }\n",
              "\n",
              "    .dataframe thead th {\n",
              "        text-align: right;\n",
              "    }\n",
              "</style>\n",
              "<table border=\"1\" class=\"dataframe\">\n",
              "  <thead>\n",
              "    <tr style=\"text-align: right;\">\n",
              "      <th></th>\n",
              "      <th>Loading</th>\n",
              "      <th>Shipping</th>\n",
              "      <th>Payments</th>\n",
              "      <th>Review</th>\n",
              "      <th>Congrats</th>\n",
              "    </tr>\n",
              "  </thead>\n",
              "  <tbody>\n",
              "    <tr>\n",
              "      <th>count</th>\n",
              "      <td>7709.000000</td>\n",
              "      <td>7709.000000</td>\n",
              "      <td>7709.000000</td>\n",
              "      <td>7709.000000</td>\n",
              "      <td>7709.000000</td>\n",
              "    </tr>\n",
              "    <tr>\n",
              "      <th>mean</th>\n",
              "      <td>59812.627578</td>\n",
              "      <td>41020.260215</td>\n",
              "      <td>32995.177195</td>\n",
              "      <td>23618.913218</td>\n",
              "      <td>22062.731353</td>\n",
              "    </tr>\n",
              "    <tr>\n",
              "      <th>std</th>\n",
              "      <td>90159.336686</td>\n",
              "      <td>68292.573307</td>\n",
              "      <td>55533.579166</td>\n",
              "      <td>38040.625869</td>\n",
              "      <td>35394.961006</td>\n",
              "    </tr>\n",
              "    <tr>\n",
              "      <th>min</th>\n",
              "      <td>0.000000</td>\n",
              "      <td>19.000000</td>\n",
              "      <td>17.000000</td>\n",
              "      <td>10.000000</td>\n",
              "      <td>8.000000</td>\n",
              "    </tr>\n",
              "    <tr>\n",
              "      <th>25%</th>\n",
              "      <td>6805.000000</td>\n",
              "      <td>6485.000000</td>\n",
              "      <td>5241.000000</td>\n",
              "      <td>4109.000000</td>\n",
              "      <td>3866.000000</td>\n",
              "    </tr>\n",
              "    <tr>\n",
              "      <th>50%</th>\n",
              "      <td>22340.000000</td>\n",
              "      <td>14553.000000</td>\n",
              "      <td>11036.000000</td>\n",
              "      <td>8379.000000</td>\n",
              "      <td>7631.000000</td>\n",
              "    </tr>\n",
              "    <tr>\n",
              "      <th>75%</th>\n",
              "      <td>75071.000000</td>\n",
              "      <td>40908.000000</td>\n",
              "      <td>32645.000000</td>\n",
              "      <td>24390.000000</td>\n",
              "      <td>22674.000000</td>\n",
              "    </tr>\n",
              "    <tr>\n",
              "      <th>max</th>\n",
              "      <td>563592.000000</td>\n",
              "      <td>537723.000000</td>\n",
              "      <td>444330.000000</td>\n",
              "      <td>286162.000000</td>\n",
              "      <td>264742.000000</td>\n",
              "    </tr>\n",
              "  </tbody>\n",
              "</table>\n",
              "</div>"
            ],
            "text/plain": [
              "             Loading       Shipping  ...         Review       Congrats\n",
              "count    7709.000000    7709.000000  ...    7709.000000    7709.000000\n",
              "mean    59812.627578   41020.260215  ...   23618.913218   22062.731353\n",
              "std     90159.336686   68292.573307  ...   38040.625869   35394.961006\n",
              "min         0.000000      19.000000  ...      10.000000       8.000000\n",
              "25%      6805.000000    6485.000000  ...    4109.000000    3866.000000\n",
              "50%     22340.000000   14553.000000  ...    8379.000000    7631.000000\n",
              "75%     75071.000000   40908.000000  ...   24390.000000   22674.000000\n",
              "max    563592.000000  537723.000000  ...  286162.000000  264742.000000\n",
              "\n",
              "[8 rows x 5 columns]"
            ]
          },
          "metadata": {
            "tags": []
          },
          "execution_count": 10
        }
      ]
    },
    {
      "cell_type": "code",
      "metadata": {
        "colab": {
          "base_uri": "https://localhost:8080/",
          "height": 175
        },
        "id": "IpYRcfK1de4E",
        "outputId": "1b8d3f13-bfd6-41bb-8b23-a29b679c0d9f"
      },
      "source": [
        "traffic_data.describe(include=\"object\")"
      ],
      "execution_count": 11,
      "outputs": [
        {
          "output_type": "execute_result",
          "data": {
            "text/html": [
              "<div>\n",
              "<style scoped>\n",
              "    .dataframe tbody tr th:only-of-type {\n",
              "        vertical-align: middle;\n",
              "    }\n",
              "\n",
              "    .dataframe tbody tr th {\n",
              "        vertical-align: top;\n",
              "    }\n",
              "\n",
              "    .dataframe thead th {\n",
              "        text-align: right;\n",
              "    }\n",
              "</style>\n",
              "<table border=\"1\" class=\"dataframe\">\n",
              "  <thead>\n",
              "    <tr style=\"text-align: right;\">\n",
              "      <th></th>\n",
              "      <th>flow</th>\n",
              "      <th>Site</th>\n",
              "      <th>Device</th>\n",
              "    </tr>\n",
              "  </thead>\n",
              "  <tbody>\n",
              "    <tr>\n",
              "      <th>count</th>\n",
              "      <td>7709</td>\n",
              "      <td>7709</td>\n",
              "      <td>7709</td>\n",
              "    </tr>\n",
              "    <tr>\n",
              "      <th>unique</th>\n",
              "      <td>2</td>\n",
              "      <td>3</td>\n",
              "      <td>4</td>\n",
              "    </tr>\n",
              "    <tr>\n",
              "      <th>top</th>\n",
              "      <td>direct</td>\n",
              "      <td>MLA</td>\n",
              "      <td>Desktop</td>\n",
              "    </tr>\n",
              "    <tr>\n",
              "      <th>freq</th>\n",
              "      <td>5746</td>\n",
              "      <td>3903</td>\n",
              "      <td>1957</td>\n",
              "    </tr>\n",
              "  </tbody>\n",
              "</table>\n",
              "</div>"
            ],
            "text/plain": [
              "          flow  Site   Device\n",
              "count     7709  7709     7709\n",
              "unique       2     3        4\n",
              "top     direct   MLA  Desktop\n",
              "freq      5746  3903     1957"
            ]
          },
          "metadata": {
            "tags": []
          },
          "execution_count": 11
        }
      ]
    },
    {
      "cell_type": "code",
      "metadata": {
        "colab": {
          "base_uri": "https://localhost:8080/"
        },
        "id": "qonEwDv-er2d",
        "outputId": "a8810199-4b42-4ee9-88e8-dfeee159a33b"
      },
      "source": [
        "traffic_data.Site.unique()"
      ],
      "execution_count": 12,
      "outputs": [
        {
          "output_type": "execute_result",
          "data": {
            "text/plain": [
              "array(['MLA', 'MLC', 'MLU'], dtype=object)"
            ]
          },
          "metadata": {
            "tags": []
          },
          "execution_count": 12
        }
      ]
    },
    {
      "cell_type": "code",
      "metadata": {
        "colab": {
          "base_uri": "https://localhost:8080/"
        },
        "id": "b0uh7OejfzEk",
        "outputId": "b8bcf6a1-9f7f-4e5f-ad11-0e002f2e2500"
      },
      "source": [
        "traffic_data.Device.unique()"
      ],
      "execution_count": 13,
      "outputs": [
        {
          "output_type": "execute_result",
          "data": {
            "text/plain": [
              "array(['Android', 'Desktop', 'Mobile', 'iOS'], dtype=object)"
            ]
          },
          "metadata": {
            "tags": []
          },
          "execution_count": 13
        }
      ]
    },
    {
      "cell_type": "markdown",
      "metadata": {
        "id": "IJY3LMYygJ0a"
      },
      "source": [
        "###Filtros\n",
        "\n",
        "Vamos a tomar:\n",
        "\n",
        "Flow = carrito\n",
        "Site = MLC\n",
        "Device = Desktop y iOS\n",
        "\n",
        "\n"
      ]
    },
    {
      "cell_type": "markdown",
      "metadata": {
        "id": "hZSPvQMNgoF9"
      },
      "source": [
        "\n",
        "\n"
      ]
    },
    {
      "cell_type": "code",
      "metadata": {
        "colab": {
          "base_uri": "https://localhost:8080/"
        },
        "id": "NJ9ZcwnggrhK",
        "outputId": "65736bca-cf57-4f16-c3c4-2c2ae10c434d"
      },
      "source": [
        "td1=traffic_data.loc[(traffic_data[\"Site\"]==\"MLC\") & (traffic_data[\"flow\"]==\"direct\") ,:]\n",
        "tdf = td1.loc[td1[\"Device\"].isin([\"Desktop\",\"iOS\",\"Android\"]),:]\n",
        "len(tdf)"
      ],
      "execution_count": 14,
      "outputs": [
        {
          "output_type": "execute_result",
          "data": {
            "text/plain": [
              "1410"
            ]
          },
          "metadata": {
            "tags": []
          },
          "execution_count": 14
        }
      ]
    },
    {
      "cell_type": "markdown",
      "metadata": {
        "id": "mL_WdG63GHpA"
      },
      "source": [
        "###Determinación de datos faltantes"
      ]
    },
    {
      "cell_type": "markdown",
      "metadata": {
        "id": "bUiHzK3IRy9J"
      },
      "source": [
        "Las variables categoricas tienen la misma cantidad registros por lo que no hay datos faltantes.\n",
        "\n",
        "Sin embargo se observa 0 en Loading por lo que hay perdida de datos"
      ]
    },
    {
      "cell_type": "code",
      "metadata": {
        "colab": {
          "base_uri": "https://localhost:8080/",
          "height": 394
        },
        "id": "aPf0n7R8pU5N",
        "outputId": "a21aabd9-7ed4-49a9-c119-7a4416829146"
      },
      "source": [
        "tdf.describe(include='all').round()\n"
      ],
      "execution_count": 15,
      "outputs": [
        {
          "output_type": "execute_result",
          "data": {
            "text/html": [
              "<div>\n",
              "<style scoped>\n",
              "    .dataframe tbody tr th:only-of-type {\n",
              "        vertical-align: middle;\n",
              "    }\n",
              "\n",
              "    .dataframe tbody tr th {\n",
              "        vertical-align: top;\n",
              "    }\n",
              "\n",
              "    .dataframe thead th {\n",
              "        text-align: right;\n",
              "    }\n",
              "</style>\n",
              "<table border=\"1\" class=\"dataframe\">\n",
              "  <thead>\n",
              "    <tr style=\"text-align: right;\">\n",
              "      <th></th>\n",
              "      <th>flow</th>\n",
              "      <th>Site</th>\n",
              "      <th>Device</th>\n",
              "      <th>Loading</th>\n",
              "      <th>Shipping</th>\n",
              "      <th>Payments</th>\n",
              "      <th>Review</th>\n",
              "      <th>Congrats</th>\n",
              "    </tr>\n",
              "  </thead>\n",
              "  <tbody>\n",
              "    <tr>\n",
              "      <th>count</th>\n",
              "      <td>1410</td>\n",
              "      <td>1410</td>\n",
              "      <td>1410</td>\n",
              "      <td>1410.0</td>\n",
              "      <td>1410.0</td>\n",
              "      <td>1410.0</td>\n",
              "      <td>1410.0</td>\n",
              "      <td>1410.0</td>\n",
              "    </tr>\n",
              "    <tr>\n",
              "      <th>unique</th>\n",
              "      <td>1</td>\n",
              "      <td>1</td>\n",
              "      <td>3</td>\n",
              "      <td>NaN</td>\n",
              "      <td>NaN</td>\n",
              "      <td>NaN</td>\n",
              "      <td>NaN</td>\n",
              "      <td>NaN</td>\n",
              "    </tr>\n",
              "    <tr>\n",
              "      <th>top</th>\n",
              "      <td>direct</td>\n",
              "      <td>MLC</td>\n",
              "      <td>Desktop</td>\n",
              "      <td>NaN</td>\n",
              "      <td>NaN</td>\n",
              "      <td>NaN</td>\n",
              "      <td>NaN</td>\n",
              "      <td>NaN</td>\n",
              "    </tr>\n",
              "    <tr>\n",
              "      <th>freq</th>\n",
              "      <td>1410</td>\n",
              "      <td>1410</td>\n",
              "      <td>488</td>\n",
              "      <td>NaN</td>\n",
              "      <td>NaN</td>\n",
              "      <td>NaN</td>\n",
              "      <td>NaN</td>\n",
              "      <td>NaN</td>\n",
              "    </tr>\n",
              "    <tr>\n",
              "      <th>mean</th>\n",
              "      <td>NaN</td>\n",
              "      <td>NaN</td>\n",
              "      <td>NaN</td>\n",
              "      <td>25437.0</td>\n",
              "      <td>25310.0</td>\n",
              "      <td>19645.0</td>\n",
              "      <td>15436.0</td>\n",
              "      <td>14369.0</td>\n",
              "    </tr>\n",
              "    <tr>\n",
              "      <th>std</th>\n",
              "      <td>NaN</td>\n",
              "      <td>NaN</td>\n",
              "      <td>NaN</td>\n",
              "      <td>19965.0</td>\n",
              "      <td>19998.0</td>\n",
              "      <td>15552.0</td>\n",
              "      <td>12205.0</td>\n",
              "      <td>11438.0</td>\n",
              "    </tr>\n",
              "    <tr>\n",
              "      <th>min</th>\n",
              "      <td>NaN</td>\n",
              "      <td>NaN</td>\n",
              "      <td>NaN</td>\n",
              "      <td>0.0</td>\n",
              "      <td>1831.0</td>\n",
              "      <td>1223.0</td>\n",
              "      <td>993.0</td>\n",
              "      <td>876.0</td>\n",
              "    </tr>\n",
              "    <tr>\n",
              "      <th>25%</th>\n",
              "      <td>NaN</td>\n",
              "      <td>NaN</td>\n",
              "      <td>NaN</td>\n",
              "      <td>9420.0</td>\n",
              "      <td>9154.0</td>\n",
              "      <td>7344.0</td>\n",
              "      <td>5950.0</td>\n",
              "      <td>5507.0</td>\n",
              "    </tr>\n",
              "    <tr>\n",
              "      <th>50%</th>\n",
              "      <td>NaN</td>\n",
              "      <td>NaN</td>\n",
              "      <td>NaN</td>\n",
              "      <td>20821.0</td>\n",
              "      <td>20566.0</td>\n",
              "      <td>16354.0</td>\n",
              "      <td>13042.0</td>\n",
              "      <td>12166.0</td>\n",
              "    </tr>\n",
              "    <tr>\n",
              "      <th>75%</th>\n",
              "      <td>NaN</td>\n",
              "      <td>NaN</td>\n",
              "      <td>NaN</td>\n",
              "      <td>33932.0</td>\n",
              "      <td>33849.0</td>\n",
              "      <td>25529.0</td>\n",
              "      <td>19365.0</td>\n",
              "      <td>18115.0</td>\n",
              "    </tr>\n",
              "    <tr>\n",
              "      <th>max</th>\n",
              "      <td>NaN</td>\n",
              "      <td>NaN</td>\n",
              "      <td>NaN</td>\n",
              "      <td>113373.0</td>\n",
              "      <td>113336.0</td>\n",
              "      <td>91563.0</td>\n",
              "      <td>67710.0</td>\n",
              "      <td>63222.0</td>\n",
              "    </tr>\n",
              "  </tbody>\n",
              "</table>\n",
              "</div>"
            ],
            "text/plain": [
              "          flow  Site   Device   Loading  Shipping  Payments   Review  Congrats\n",
              "count     1410  1410     1410    1410.0    1410.0    1410.0   1410.0    1410.0\n",
              "unique       1     1        3       NaN       NaN       NaN      NaN       NaN\n",
              "top     direct   MLC  Desktop       NaN       NaN       NaN      NaN       NaN\n",
              "freq      1410  1410      488       NaN       NaN       NaN      NaN       NaN\n",
              "mean       NaN   NaN      NaN   25437.0   25310.0   19645.0  15436.0   14369.0\n",
              "std        NaN   NaN      NaN   19965.0   19998.0   15552.0  12205.0   11438.0\n",
              "min        NaN   NaN      NaN       0.0    1831.0    1223.0    993.0     876.0\n",
              "25%        NaN   NaN      NaN    9420.0    9154.0    7344.0   5950.0    5507.0\n",
              "50%        NaN   NaN      NaN   20821.0   20566.0   16354.0  13042.0   12166.0\n",
              "75%        NaN   NaN      NaN   33932.0   33849.0   25529.0  19365.0   18115.0\n",
              "max        NaN   NaN      NaN  113373.0  113336.0   91563.0  67710.0   63222.0"
            ]
          },
          "metadata": {
            "tags": []
          },
          "execution_count": 15
        }
      ]
    },
    {
      "cell_type": "markdown",
      "metadata": {
        "id": "2kLw57s_SK-7"
      },
      "source": [
        "Abajo se puede corroborar la cantidad de dias que el loading es zero."
      ]
    },
    {
      "cell_type": "code",
      "metadata": {
        "colab": {
          "base_uri": "https://localhost:8080/"
        },
        "id": "mrqa_RQDP1OD",
        "outputId": "46e4dd50-8d68-47a8-c304-3255ef945477"
      },
      "source": [
        "tdf.isin([0]).sum()"
      ],
      "execution_count": 63,
      "outputs": [
        {
          "output_type": "execute_result",
          "data": {
            "text/plain": [
              "flow        0\n",
              "Site        0\n",
              "Device      0\n",
              "Loading     0\n",
              "Shipping    0\n",
              "Payments    0\n",
              "Review      0\n",
              "Congrats    0\n",
              "dia         0\n",
              "dtype: int64"
            ]
          },
          "metadata": {
            "tags": []
          },
          "execution_count": 63
        }
      ]
    },
    {
      "cell_type": "markdown",
      "metadata": {
        "id": "kgDtVXS8TkMc"
      },
      "source": [
        "Con este codigo reemplazamos los 0 con la mediana y volvemos a contar la cantidad de 0"
      ]
    },
    {
      "cell_type": "code",
      "metadata": {
        "colab": {
          "base_uri": "https://localhost:8080/"
        },
        "id": "BjxLNgpWSyRc",
        "outputId": "0da25acf-e98a-4a83-9123-dbc4e40ddb9c"
      },
      "source": [
        "\n",
        "M = tdf[\"Loading\"].median()\n",
        "tdf[\"Loading\"] = tdf[\"Loading\"].replace(0,M)\n",
        "tdf.isin([0]).sum()"
      ],
      "execution_count": 22,
      "outputs": [
        {
          "output_type": "stream",
          "text": [
            "/usr/local/lib/python3.7/dist-packages/ipykernel_launcher.py:3: SettingWithCopyWarning: \n",
            "A value is trying to be set on a copy of a slice from a DataFrame.\n",
            "Try using .loc[row_indexer,col_indexer] = value instead\n",
            "\n",
            "See the caveats in the documentation: https://pandas.pydata.org/pandas-docs/stable/user_guide/indexing.html#returning-a-view-versus-a-copy\n",
            "  This is separate from the ipykernel package so we can avoid doing imports until\n"
          ],
          "name": "stderr"
        },
        {
          "output_type": "execute_result",
          "data": {
            "text/plain": [
              "flow        0\n",
              "Site        0\n",
              "Device      0\n",
              "Loading     0\n",
              "Shipping    0\n",
              "Payments    0\n",
              "Review      0\n",
              "Congrats    0\n",
              "dtype: int64"
            ]
          },
          "metadata": {
            "tags": []
          },
          "execution_count": 22
        }
      ]
    },
    {
      "cell_type": "markdown",
      "metadata": {
        "id": "XkJkzak6T0Gz"
      },
      "source": [
        "Ahora revisamos si falta algun dia en el dataset.\n",
        "\n",
        "hay 488 dias en el dataset por lo que no hay faltantes de dias completos. La diferencia entre fechas no incluye un extremo por eso da 487 y la cantidad de fechas unicas 488"
      ]
    },
    {
      "cell_type": "code",
      "metadata": {
        "colab": {
          "base_uri": "https://localhost:8080/"
        },
        "id": "ruEzDsEwqox1",
        "outputId": "fd92bacc-5874-4004-81a0-3d95f99f2314"
      },
      "source": [
        "\n",
        "min=tdf.index.min()\n",
        "print(min)\n",
        "max=tdf.index.max()\n",
        "print(max)\n",
        "max-min\n"
      ],
      "execution_count": 18,
      "outputs": [
        {
          "output_type": "stream",
          "text": [
            "2019-03-01 00:00:00\n",
            "2020-06-30 00:00:00\n"
          ],
          "name": "stdout"
        },
        {
          "output_type": "execute_result",
          "data": {
            "text/plain": [
              "Timedelta('487 days 00:00:00')"
            ]
          },
          "metadata": {
            "tags": []
          },
          "execution_count": 18
        }
      ]
    },
    {
      "cell_type": "code",
      "metadata": {
        "colab": {
          "base_uri": "https://localhost:8080/"
        },
        "id": "_4K-lgfxOiaY",
        "outputId": "caef79d2-936e-4835-9e16-9b114039bc1a"
      },
      "source": [
        "tdf.index.unique()"
      ],
      "execution_count": 23,
      "outputs": [
        {
          "output_type": "execute_result",
          "data": {
            "text/plain": [
              "DatetimeIndex(['2019-03-01', '2019-03-02', '2019-03-03', '2019-03-04',\n",
              "               '2019-03-05', '2019-03-06', '2019-03-07', '2019-03-08',\n",
              "               '2019-03-09', '2019-03-10',\n",
              "               ...\n",
              "               '2020-06-21', '2020-06-22', '2020-06-23', '2020-06-24',\n",
              "               '2020-06-25', '2020-06-26', '2020-06-27', '2020-06-28',\n",
              "               '2020-06-29', '2020-06-30'],\n",
              "              dtype='datetime64[ns]', name='Fecha', length=488, freq=None)"
            ]
          },
          "metadata": {
            "tags": []
          },
          "execution_count": 23
        }
      ]
    },
    {
      "cell_type": "code",
      "metadata": {
        "colab": {
          "base_uri": "https://localhost:8080/"
        },
        "id": "Wv-hyYxgNeDz",
        "outputId": "b07d31e1-e082-43ef-b456-6118fe22351b"
      },
      "source": [
        "max-min"
      ],
      "execution_count": 24,
      "outputs": [
        {
          "output_type": "execute_result",
          "data": {
            "text/plain": [
              "Timedelta('487 days 00:00:00')"
            ]
          },
          "metadata": {
            "tags": []
          },
          "execution_count": 24
        }
      ]
    },
    {
      "cell_type": "markdown",
      "metadata": {
        "id": "tHIXDp2rUHWM"
      },
      "source": [
        "###Visualización de datos\n",
        "\n"
      ]
    },
    {
      "cell_type": "markdown",
      "metadata": {
        "id": "oFp9fIJmUZUj"
      },
      "source": [
        "####Tendencias generales\n",
        "\n",
        "Resampleamos a mes para entender el comportamiento de largo plazo.\n",
        "\n",
        "So obsrva un valor de transacciones estable durante el año 2019 con un pico en diciembre que se presume esta relacionado a la estacionalidad por las fiestas. Enero y Febrero baja y a partir de Marzo se dispara. Este comportamiento es congruente con el crecimiento en el comercio electrónico como consecuencia de la pandemia\n"
      ]
    },
    {
      "cell_type": "code",
      "metadata": {
        "colab": {
          "base_uri": "https://localhost:8080/",
          "height": 611
        },
        "id": "zGTlmVUiUpZz",
        "outputId": "151b2f30-01df-486d-e395-ef3ec040e413"
      },
      "source": [
        "cols_plot = [\"Loading\",\t\"Congrats\"]\n",
        "tdf_m = tdf[cols_plot].resample(\"M\").mean()\n",
        "tdf_m[cols_plot].plot(linewidth=1)"
      ],
      "execution_count": 25,
      "outputs": [
        {
          "output_type": "execute_result",
          "data": {
            "text/plain": [
              "<matplotlib.axes._subplots.AxesSubplot at 0x7f12d3b7b250>"
            ]
          },
          "metadata": {
            "tags": []
          },
          "execution_count": 25
        },
        {
          "output_type": "display_data",
          "data": {
            "image/png": "[encoded data removed]",
            "text/plain": [
              "<Figure size 864x648 with 1 Axes>"
            ]
          },
          "metadata": {
            "tags": [],
            "needs_background": "light"
          }
        }
      ]
    },
    {
      "cell_type": "markdown",
      "metadata": {
        "id": "tf6PBwVldZ-w"
      },
      "source": [
        "#### Distribution"
      ]
    },
    {
      "cell_type": "code",
      "metadata": {
        "id": "IHYvquRuyZK2",
        "outputId": "f335b121-752a-46bf-96de-f7de3a48cccd",
        "colab": {
          "base_uri": "https://localhost:8080/",
          "height": 237
        }
      },
      "source": [
        "tdf_And = td1.loc[td1[\"Device\"].isin([\"Android\"]),:]\n",
        "tdf_And.head()"
      ],
      "execution_count": 71,
      "outputs": [
        {
          "output_type": "execute_result",
          "data": {
            "text/html": [
              "<div>\n",
              "<style scoped>\n",
              "    .dataframe tbody tr th:only-of-type {\n",
              "        vertical-align: middle;\n",
              "    }\n",
              "\n",
              "    .dataframe tbody tr th {\n",
              "        vertical-align: top;\n",
              "    }\n",
              "\n",
              "    .dataframe thead th {\n",
              "        text-align: right;\n",
              "    }\n",
              "</style>\n",
              "<table border=\"1\" class=\"dataframe\">\n",
              "  <thead>\n",
              "    <tr style=\"text-align: right;\">\n",
              "      <th></th>\n",
              "      <th>flow</th>\n",
              "      <th>Site</th>\n",
              "      <th>Device</th>\n",
              "      <th>Loading</th>\n",
              "      <th>Shipping</th>\n",
              "      <th>Payments</th>\n",
              "      <th>Review</th>\n",
              "      <th>Congrats</th>\n",
              "    </tr>\n",
              "    <tr>\n",
              "      <th>Fecha</th>\n",
              "      <th></th>\n",
              "      <th></th>\n",
              "      <th></th>\n",
              "      <th></th>\n",
              "      <th></th>\n",
              "      <th></th>\n",
              "      <th></th>\n",
              "      <th></th>\n",
              "    </tr>\n",
              "  </thead>\n",
              "  <tbody>\n",
              "    <tr>\n",
              "      <th>2019-03-28</th>\n",
              "      <td>direct</td>\n",
              "      <td>MLC</td>\n",
              "      <td>Android</td>\n",
              "      <td>21561</td>\n",
              "      <td>19924</td>\n",
              "      <td>14632</td>\n",
              "      <td>11292</td>\n",
              "      <td>10491</td>\n",
              "    </tr>\n",
              "    <tr>\n",
              "      <th>2019-03-29</th>\n",
              "      <td>direct</td>\n",
              "      <td>MLC</td>\n",
              "      <td>Android</td>\n",
              "      <td>20860</td>\n",
              "      <td>20879</td>\n",
              "      <td>15535</td>\n",
              "      <td>11839</td>\n",
              "      <td>10908</td>\n",
              "    </tr>\n",
              "    <tr>\n",
              "      <th>2019-03-30</th>\n",
              "      <td>direct</td>\n",
              "      <td>MLC</td>\n",
              "      <td>Android</td>\n",
              "      <td>19649</td>\n",
              "      <td>19629</td>\n",
              "      <td>14389</td>\n",
              "      <td>10858</td>\n",
              "      <td>9951</td>\n",
              "    </tr>\n",
              "    <tr>\n",
              "      <th>2019-03-31</th>\n",
              "      <td>direct</td>\n",
              "      <td>MLC</td>\n",
              "      <td>Android</td>\n",
              "      <td>21849</td>\n",
              "      <td>21923</td>\n",
              "      <td>15804</td>\n",
              "      <td>11780</td>\n",
              "      <td>10754</td>\n",
              "    </tr>\n",
              "    <tr>\n",
              "      <th>2019-04-01</th>\n",
              "      <td>direct</td>\n",
              "      <td>MLC</td>\n",
              "      <td>Android</td>\n",
              "      <td>29071</td>\n",
              "      <td>29112</td>\n",
              "      <td>21921</td>\n",
              "      <td>16919</td>\n",
              "      <td>15671</td>\n",
              "    </tr>\n",
              "  </tbody>\n",
              "</table>\n",
              "</div>"
            ],
            "text/plain": [
              "              flow Site   Device  Loading  Shipping  Payments  Review  Congrats\n",
              "Fecha                                                                          \n",
              "2019-03-28  direct  MLC  Android    21561     19924     14632   11292     10491\n",
              "2019-03-29  direct  MLC  Android    20860     20879     15535   11839     10908\n",
              "2019-03-30  direct  MLC  Android    19649     19629     14389   10858      9951\n",
              "2019-03-31  direct  MLC  Android    21849     21923     15804   11780     10754\n",
              "2019-04-01  direct  MLC  Android    29071     29112     21921   16919     15671"
            ]
          },
          "metadata": {
            "tags": []
          },
          "execution_count": 71
        }
      ]
    },
    {
      "cell_type": "code",
      "metadata": {
        "id": "GZdUmyUimiZA",
        "outputId": "31ff0497-4b3d-4760-a6c6-9d7642ce6db6",
        "colab": {
          "base_uri": "https://localhost:8080/",
          "height": 237
        }
      },
      "source": [
        "\n",
        "tdf_Device = tdf.pivot(columns=\"Device\", values=\"Payments\")\n",
        "tdf_Device.head()"
      ],
      "execution_count": 69,
      "outputs": [
        {
          "output_type": "execute_result",
          "data": {
            "text/html": [
              "<div>\n",
              "<style scoped>\n",
              "    .dataframe tbody tr th:only-of-type {\n",
              "        vertical-align: middle;\n",
              "    }\n",
              "\n",
              "    .dataframe tbody tr th {\n",
              "        vertical-align: top;\n",
              "    }\n",
              "\n",
              "    .dataframe thead th {\n",
              "        text-align: right;\n",
              "    }\n",
              "</style>\n",
              "<table border=\"1\" class=\"dataframe\">\n",
              "  <thead>\n",
              "    <tr style=\"text-align: right;\">\n",
              "      <th>Device</th>\n",
              "      <th>Android</th>\n",
              "      <th>Desktop</th>\n",
              "      <th>iOS</th>\n",
              "    </tr>\n",
              "    <tr>\n",
              "      <th>Fecha</th>\n",
              "      <th></th>\n",
              "      <th></th>\n",
              "      <th></th>\n",
              "    </tr>\n",
              "  </thead>\n",
              "  <tbody>\n",
              "    <tr>\n",
              "      <th>2019-03-01</th>\n",
              "      <td>NaN</td>\n",
              "      <td>12629.0</td>\n",
              "      <td>NaN</td>\n",
              "    </tr>\n",
              "    <tr>\n",
              "      <th>2019-03-02</th>\n",
              "      <td>NaN</td>\n",
              "      <td>6946.0</td>\n",
              "      <td>NaN</td>\n",
              "    </tr>\n",
              "    <tr>\n",
              "      <th>2019-03-03</th>\n",
              "      <td>NaN</td>\n",
              "      <td>7940.0</td>\n",
              "      <td>NaN</td>\n",
              "    </tr>\n",
              "    <tr>\n",
              "      <th>2019-03-04</th>\n",
              "      <td>NaN</td>\n",
              "      <td>18204.0</td>\n",
              "      <td>NaN</td>\n",
              "    </tr>\n",
              "    <tr>\n",
              "      <th>2019-03-05</th>\n",
              "      <td>NaN</td>\n",
              "      <td>17804.0</td>\n",
              "      <td>NaN</td>\n",
              "    </tr>\n",
              "  </tbody>\n",
              "</table>\n",
              "</div>"
            ],
            "text/plain": [
              "Device      Android  Desktop  iOS\n",
              "Fecha                            \n",
              "2019-03-01      NaN  12629.0  NaN\n",
              "2019-03-02      NaN   6946.0  NaN\n",
              "2019-03-03      NaN   7940.0  NaN\n",
              "2019-03-04      NaN  18204.0  NaN\n",
              "2019-03-05      NaN  17804.0  NaN"
            ]
          },
          "metadata": {
            "tags": []
          },
          "execution_count": 69
        }
      ]
    },
    {
      "cell_type": "code",
      "metadata": {
        "id": "23zujRTGdjFv",
        "outputId": "721df47d-3a76-4da7-cd6d-5bc989fe8819",
        "colab": {
          "base_uri": "https://localhost:8080/",
          "height": 383
        }
      },
      "source": [
        "\n",
        "seaborn.displot(tdf_And[\"Congrats\"],kde=True)\n",
        "\n",
        "\n"
      ],
      "execution_count": 73,
      "outputs": [
        {
          "output_type": "execute_result",
          "data": {
            "text/plain": [
              "<seaborn.axisgrid.FacetGrid at 0x7f12c3383290>"
            ]
          },
          "metadata": {
            "tags": []
          },
          "execution_count": 73
        },
        {
          "output_type": "display_data",
          "data": {
            "image/png": "[encoded data removed]",
            "text/plain": [
              "<Figure size 360x360 with 1 Axes>"
            ]
          },
          "metadata": {
            "tags": []
          }
        }
      ]
    },
    {
      "cell_type": "markdown",
      "metadata": {
        "id": "ufN2gypAY8r0"
      },
      "source": [
        "#### Outliers\n"
      ]
    },
    {
      "cell_type": "code",
      "metadata": {
        "colab": {
          "base_uri": "https://localhost:8080/"
        },
        "id": "rJ7-VWFHKaSH",
        "outputId": "4db69e90-ac47-4f1e-c2d4-36ad4a766483"
      },
      "source": [
        "#para agrupar creamos una columna por dia y otra para el mes. Despues agrupamos por dia e imprimimos la cantidad de registros que tiene que ser igual a la cantidad de dias.\n",
        "tdf[\"dia\"]=tdf.index\n",
        "tdf_day = tdf.groupby([\"dia\"],as_index=False).sum()\n",
        "tdf_day[\"periodo\"]=tdf_day[\"dia\"].dt.strftime('%Y-%m')\n",
        "len(tdf_day)\n"
      ],
      "execution_count": 26,
      "outputs": [
        {
          "output_type": "stream",
          "text": [
            "/usr/local/lib/python3.7/dist-packages/ipykernel_launcher.py:2: SettingWithCopyWarning: \n",
            "A value is trying to be set on a copy of a slice from a DataFrame.\n",
            "Try using .loc[row_indexer,col_indexer] = value instead\n",
            "\n",
            "See the caveats in the documentation: https://pandas.pydata.org/pandas-docs/stable/user_guide/indexing.html#returning-a-view-versus-a-copy\n",
            "  \n"
          ],
          "name": "stderr"
        },
        {
          "output_type": "execute_result",
          "data": {
            "text/plain": [
              "488"
            ]
          },
          "metadata": {
            "tags": []
          },
          "execution_count": 26
        }
      ]
    },
    {
      "cell_type": "markdown",
      "metadata": {
        "id": "ZF0EthflZNOE"
      },
      "source": [
        "En el siguiente boxplot podemos ver los outliers en los meses de mayo y octubre.  No se observan outliers durante el 2020.\n",
        "\n",
        "Como podrá observarse mas abajo, los eventos de marketing del 2019 generaron niveles de trafico fuera de lo normal que es capturado por el grafico.\n",
        "\n",
        "Si bien ocurrieron eventos de hotsale en mayo del 2020, estos no llegan a modificar el patron de trafico lo suficiente como para ser considerados outliers. \n",
        "\n"
      ]
    },
    {
      "cell_type": "code",
      "metadata": {
        "colab": {
          "base_uri": "https://localhost:8080/",
          "height": 366
        },
        "id": "d63M-sy3UvJ5",
        "outputId": "9d456f11-f2a7-4321-ccd6-90aa545e214f"
      },
      "source": [
        "import seaborn as sns\n",
        "\n",
        "sns.set(rc={'figure.figsize':(21.7,8.27)})\n",
        "\n",
        "sns.boxplot(data=tdf_day, x=\"periodo\", y=\"Congrats\")\n"
      ],
      "execution_count": 27,
      "outputs": [
        {
          "output_type": "execute_result",
          "data": {
            "text/plain": [
              "<matplotlib.axes._subplots.AxesSubplot at 0x7f12d3a6b110>"
            ]
          },
          "metadata": {
            "tags": []
          },
          "execution_count": 27
        },
        {
          "output_type": "display_data",
          "data": {
            "image/png": "[encoded data removed]",
            "text/plain": [
              "<Figure size 1562.4x595.44 with 1 Axes>"
            ]
          },
          "metadata": {
            "tags": []
          }
        }
      ]
    },
    {
      "cell_type": "markdown",
      "metadata": {
        "id": "-8wApsgATzIp"
      },
      "source": [
        "Para el mes de mayo se observan los 2 outliers que tienen que ver con el cyber day que ocurrio entre el 27 y el 29 de mayo en Chile\n",
        "https://www.ecommerceccs.cl/cyberday-2019/\n"
      ]
    },
    {
      "cell_type": "code",
      "metadata": {
        "colab": {
          "base_uri": "https://localhost:8080/",
          "height": 443
        },
        "id": "ItMDzwcIUXIR",
        "outputId": "0a08fe29-174b-48a3-dd88-1d5a938ac413"
      },
      "source": [
        "tdf_day_mayo =tdf_day[(tdf_day[\"dia\"]>\"2019-04-30\") & (tdf_day[\"dia\"]<\"2019-06-01\")]\n",
        "cols_plot = [\"Congrats\"]\n",
        "tdf_day_mayo.set_index(\"dia\",inplace=True)\n",
        "tdf_day_mayo[cols_plot].plot(linewidth=1,kind=\"bar\")"
      ],
      "execution_count": 28,
      "outputs": [
        {
          "output_type": "execute_result",
          "data": {
            "text/plain": [
              "<matplotlib.axes._subplots.AxesSubplot at 0x7f12d342a710>"
            ]
          },
          "metadata": {
            "tags": []
          },
          "execution_count": 28
        },
        {
          "output_type": "display_data",
          "data": {
            "image/png": "[encoded data removed]",
            "text/plain": [
              "<Figure size 1562.4x595.44 with 1 Axes>"
            ]
          },
          "metadata": {
            "tags": []
          }
        }
      ]
    },
    {
      "cell_type": "markdown",
      "metadata": {
        "id": "B5cehVAsX1tD"
      },
      "source": [
        "cyber monday en Chile entre el 7 y el 9 de octubre\n",
        "https://www.fayerwayer.com/2019/09/cyber-monday-2019-octubre/"
      ]
    },
    {
      "cell_type": "code",
      "metadata": {
        "colab": {
          "base_uri": "https://localhost:8080/",
          "height": 444
        },
        "id": "QanfmvE1nGk_",
        "outputId": "4aced9d1-d8ab-44ba-eb8b-4e19d8c66714"
      },
      "source": [
        "tdf_day_oct =tdf_day[(tdf_day[\"dia\"]>\"2019-09-30\") & (tdf_day[\"dia\"]<\"2019-11-01\")]\n",
        "cols_plot = [\"Congrats\"]\n",
        "tdf_day_oct.set_index(\"dia\",inplace=True)\n",
        "tdf_day_oct[cols_plot].plot(linewidth=1,kind=\"bar\")\n"
      ],
      "execution_count": 29,
      "outputs": [
        {
          "output_type": "execute_result",
          "data": {
            "text/plain": [
              "<matplotlib.axes._subplots.AxesSubplot at 0x7f12d3336a10>"
            ]
          },
          "metadata": {
            "tags": []
          },
          "execution_count": 29
        },
        {
          "output_type": "display_data",
          "data": {
            "image/png": "[encoded data removed]",
            "text/plain": [
              "<Figure size 1562.4x595.44 with 1 Axes>"
            ]
          },
          "metadata": {
            "tags": []
          }
        }
      ]
    },
    {
      "cell_type": "markdown",
      "metadata": {
        "id": "AO3fsnP6nppn"
      },
      "source": [
        "####*Conversion y tráfico*"
      ]
    },
    {
      "cell_type": "markdown",
      "metadata": {
        "id": "20LFAMGd2jJk"
      },
      "source": [
        "Al analizarse el tráfico se observa que la plataforma Android es la que mas tráfico genera siendo casi el doble que desktop\n",
        "\n"
      ]
    },
    {
      "cell_type": "code",
      "metadata": {
        "id": "_z-fvjtJvYl6"
      },
      "source": [
        "Conv = tdf.groupby([\"Device\"]).sum()\n"
      ],
      "execution_count": 31,
      "outputs": []
    },
    {
      "cell_type": "code",
      "metadata": {
        "colab": {
          "base_uri": "https://localhost:8080/",
          "height": 407
        },
        "id": "Gmdkf_BFuKE9",
        "outputId": "4e4ca51d-8e6b-4ecb-abc0-8fedbd82dd02"
      },
      "source": [
        "Conv.plot(kind=\"bar\")"
      ],
      "execution_count": 32,
      "outputs": [
        {
          "output_type": "execute_result",
          "data": {
            "text/plain": [
              "<matplotlib.axes._subplots.AxesSubplot at 0x7f12d31d4650>"
            ]
          },
          "metadata": {
            "tags": []
          },
          "execution_count": 32
        },
        {
          "output_type": "display_data",
          "data": {
            "image/png": "[encoded data removed]",
            "text/plain": [
              "<Figure size 1562.4x595.44 with 1 Axes>"
            ]
          },
          "metadata": {
            "tags": []
          }
        }
      ]
    },
    {
      "cell_type": "code",
      "metadata": {
        "id": "_QiX0NiyzZVE"
      },
      "source": [
        "#Creamos la tasa de caidas de usuarios en cadad etapa\n",
        "Conv[\"Drop-out Shipping\"] = 1-Conv[\"Shipping\"]/Conv[\"Loading\"]\n",
        "Conv[\"Drop-out Payments\"] = 1-Conv[\"Payments\"]/Conv[\"Shipping\"]\n",
        "Conv[\"Drop-out Review\"] = 1-Conv[\"Review\"]/Conv[\"Payments\"]\n",
        "Conv[\"Drop-out Congrats\"] = 1-Conv[\"Congrats\"]/Conv[\"Review\"]\n",
        "Conv[\"Drop-Out Total\"] = 1-Conv[\"Congrats\"]/Conv[\"Review\"]\n"
      ],
      "execution_count": 36,
      "outputs": []
    },
    {
      "cell_type": "markdown",
      "metadata": {
        "id": "aqDzucBF3Eqr"
      },
      "source": [
        "Sin embargo, tambien Android es la platforma que mas caida de usarios siendo mas del doble que Desktop"
      ]
    },
    {
      "cell_type": "code",
      "metadata": {
        "colab": {
          "base_uri": "https://localhost:8080/",
          "height": 399
        },
        "id": "07zzG1C52K4z",
        "outputId": "44843297-c422-4650-9420-2e5518d18003"
      },
      "source": [
        "Cols_Plot = [\"Drop-Out Total\"]\n",
        "Conv[Cols_Plot].plot(kind=\"bar\")"
      ],
      "execution_count": 37,
      "outputs": [
        {
          "output_type": "execute_result",
          "data": {
            "text/plain": [
              "<matplotlib.axes._subplots.AxesSubplot at 0x7f12d3083910>"
            ]
          },
          "metadata": {
            "tags": []
          },
          "execution_count": 37
        },
        {
          "output_type": "display_data",
          "data": {
            "image/png": "[encoded data removed]",
            "text/plain": [
              "<Figure size 1562.4x595.44 with 1 Axes>"
            ]
          },
          "metadata": {
            "tags": []
          }
        }
      ]
    },
    {
      "cell_type": "markdown",
      "metadata": {
        "id": "R8P-ldc-2Kqb"
      },
      "source": [
        ""
      ]
    },
    {
      "cell_type": "markdown",
      "metadata": {
        "id": "H4x1iXl02KK0"
      },
      "source": [
        "En este grafico se puede observar la tasa de caída de usuriros por estapa siendo payments y review las dos etapas donde claramente se caen mayor cantidad de transacciones"
      ]
    },
    {
      "cell_type": "code",
      "metadata": {
        "colab": {
          "base_uri": "https://localhost:8080/",
          "height": 399
        },
        "id": "8LE5P3e01oxP",
        "outputId": "f417ceda-8a53-40b5-f91d-51528499ae19"
      },
      "source": [
        "Cols_Plot = [\"Drop-out Shipping\",\"Drop-out Payments\",\"Drop-out Review\",\"Drop-out Congrats\"]\n",
        "Conv[Cols_Plot].plot(kind=\"bar\")"
      ],
      "execution_count": 38,
      "outputs": [
        {
          "output_type": "execute_result",
          "data": {
            "text/plain": [
              "<matplotlib.axes._subplots.AxesSubplot at 0x7f12d2f64dd0>"
            ]
          },
          "metadata": {
            "tags": []
          },
          "execution_count": 38
        },
        {
          "output_type": "display_data",
          "data": {
            "image/png": "[encoded data removed]",
            "text/plain": [
              "<Figure size 1562.4x595.44 with 1 Axes>"
            ]
          },
          "metadata": {
            "tags": []
          }
        }
      ]
    },
    {
      "cell_type": "markdown",
      "metadata": {
        "id": "SYHrS4GuUkhC"
      },
      "source": [
        ""
      ]
    },
    {
      "cell_type": "markdown",
      "metadata": {
        "id": "FREosE8vO1I_"
      },
      "source": [
        "Loading tiene datos faltantes por lo que ploteamos Shipping y Cograts que son la primer y ultima etapa del funnel que estan completos\n",
        "\n",
        "Resampleamos las muestras a semana"
      ]
    },
    {
      "cell_type": "code",
      "metadata": {
        "id": "JFLFgDMBRYRz"
      },
      "source": [
        "\n"
      ],
      "execution_count": null,
      "outputs": []
    },
    {
      "cell_type": "markdown",
      "metadata": {
        "id": "BecSePQLR5FE"
      },
      "source": [
        "## Fecha de entrega\n",
        "\n",
        "- __Versión preliminar: __ \n",
        "\n",
        "- __Version final: __\n",
        "\n",
        "## Condiciones de entrega\n",
        "\n",
        "Realizar un informe en el cual se presenten los resultados y conclusiones del análisis realizado. \n",
        "El mismo debe estar pensado para un público técnico pero que desconoce lel dominio del problema a resolver tal como los compañeros de clase. \n",
        "\n",
        "Dicho informe puede ser un notebook, la condición de que en el mismo se efectúe un análisis escrito que permita describir y trasmitir las conclusiones a traves de las visualizaciones"
      ]
    },
    {
      "cell_type": "markdown",
      "metadata": {
        "id": "859OnDgYR5FF"
      },
      "source": [
        "## Snippets y recortes útiles para arrancar rápido"
      ]
    },
    {
      "cell_type": "code",
      "metadata": {
        "id": "UrIrevkMR5FF"
      },
      "source": [
        "# Filter values by  site, flow, and platform \n",
        "# https://medium.com/swlh/3-ways-to-filter-pandas-dataframe-by-column-values-dfb6609b31de\n",
        "\n",
        "filtered = traffic_data.loc[\n",
        "    ( traffic_data[\"flow\"] == \"direct\"    ) &  \n",
        "    ( traffic_data[\"Site\"] == \"MLA\"       ) & \n",
        "    ( traffic_data[\"Device\"] == \"Android\" ) \n",
        "]\n",
        "\n",
        "# setting first name as index column\n",
        "filtered.set_index(\"Fecha\", inplace = True)"
      ],
      "execution_count": null,
      "outputs": []
    },
    {
      "cell_type": "code",
      "metadata": {
        "id": "qdP9-C0RR5FF"
      },
      "source": [
        "\n",
        "filtered['Congrats'].plot(grid = True)"
      ],
      "execution_count": null,
      "outputs": []
    },
    {
      "cell_type": "code",
      "metadata": {
        "id": "HZYOj-RzR5FF"
      },
      "source": [
        "# Filtrar o definir un periodo de analisis puede hacerse con\n",
        "\n",
        "# filtered.loc['2020-03-01':'2020-05-01']\n",
        "filtered['2020-03-01':'2020-05-01']['Congrats'].plot(grid = True)"
      ],
      "execution_count": null,
      "outputs": []
    },
    {
      "cell_type": "markdown",
      "metadata": {
        "id": "4Qaz8y02R5FG"
      },
      "source": [
        ""
      ]
    }
  ]
}